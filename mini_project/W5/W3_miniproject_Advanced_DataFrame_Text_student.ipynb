{
 "cells": [
  {
   "cell_type": "markdown",
   "id": "3ec778aa",
   "metadata": {},
   "source": [
    "# 🧠 고급 데이터프레임 & 문자열 처리 미니프로젝트\n",
    "이번 프로젝트는 `apply`, `.str`, 필터링, 그룹화, 시각화 기능을 복합적으로 사용하여 실전 데이터 분석 역량을 강화합니다."
   ]
  },
  {
   "cell_type": "markdown",
   "id": "194d63ef",
   "metadata": {},
   "source": [
    "## 📥 데이터 불러오기"
   ]
  },
  {
   "cell_type": "code",
   "execution_count": null,
   "id": "d8e96168",
   "metadata": {},
   "outputs": [],
   "source": [
    "#"
   ]
  },
  {
   "cell_type": "markdown",
   "id": "375df08b",
   "metadata": {},
   "source": [
    "## 🧩 문제 1: 이름 정보 정제 및 파생 변수 생성\n",
    "- 선수 이름을 성과 이름으로 분리하고, 이름 길이와 이름의 첫 글자가 모음인지 여부를 파생 변수로 추가하세요.\n",
    "- 이름의 첫 글자가 A, E, I, O, U 중 하나이면 모음으로 간주합니다."
   ]
  },
  {
   "cell_type": "code",
   "execution_count": null,
   "id": "002c38e1",
   "metadata": {},
   "outputs": [],
   "source": [
    "#"
   ]
  },
  {
   "cell_type": "markdown",
   "id": "2f6ed608",
   "metadata": {},
   "source": [
    "## 🧩 문제 2: 복합 조건 필터링\n",
    "- 'Forward' 포지션이고 팀 이름에 'New'가 포함된 선수 중 연봉 상위 5명을 출력하세요."
   ]
  },
  {
   "cell_type": "code",
   "execution_count": null,
   "id": "1fa245ed",
   "metadata": {},
   "outputs": [],
   "source": [
    "#"
   ]
  },
  {
   "cell_type": "markdown",
   "id": "b45795c2",
   "metadata": {},
   "source": [
    "## 📊 문제 3: 포지션 & 이름 모음 여부별 평균 연봉\n",
    "- 포지션과 이름이 모음으로 시작하는지 여부를 기준으로 그룹화하여 평균 연봉을 구하고 시각화하세요."
   ]
  },
  {
   "cell_type": "code",
   "execution_count": null,
   "id": "d0fcad0d",
   "metadata": {},
   "outputs": [],
   "source": [
    "#"
   ]
  },
  {
   "cell_type": "markdown",
   "id": "cc166ee7",
   "metadata": {},
   "source": [
    "## 🧩 문제 4: 영화 제목 문자열 특성 분석\n",
    "- 본드 영화 제목에서 글자 수, 단어 수, 'Gold' 또는 'Love' 포함 여부를 나타내는 파생 열을 추가하세요."
   ]
  },
  {
   "cell_type": "code",
   "execution_count": null,
   "id": "27ec9d50",
   "metadata": {},
   "outputs": [],
   "source": [
    "#"
   ]
  },
  {
   "cell_type": "markdown",
   "id": "f48c669a",
   "metadata": {},
   "source": [
    "## 📊 문제 5: 감독별 영화 수 및 감성 키워드 포함 비율\n",
    "- 감독별 영화 수를 계산하고, 해당 감독이 만든 영화 중 'Gold'나 'Love'가 포함된 영화 비율을 함께 시각화하세요."
   ]
  },
  {
   "cell_type": "code",
   "execution_count": null,
   "id": "93676a4c",
   "metadata": {},
   "outputs": [],
   "source": [
    "#"
   ]
  },
  {
   "cell_type": "markdown",
   "id": "ded5c062",
   "metadata": {},
   "source": [
    "## 🧩 문제 6: 배우 이름 길이와 개봉 연도 분석\n",
    "- 배우 이름 길이 상위 3명의 영화 중 가장 오래된 영화를 찾아보세요."
   ]
  },
  {
   "cell_type": "code",
   "execution_count": null,
   "id": "d3ad9a37",
   "metadata": {},
   "outputs": [],
   "source": [
    "#"
   ]
  },
  {
   "cell_type": "markdown",
   "id": "baf8f2ed",
   "metadata": {},
   "source": [
    "## 📊 문제 7: 이름 길이에 따른 연봉 관계 시각화\n",
    "- `apply`를 이용해 이름 길이를 계산하고, 이름 길이에 따른 연봉 분포를 산점도로 시각화하세요."
   ]
  },
  {
   "cell_type": "code",
   "execution_count": null,
   "id": "b278363f",
   "metadata": {},
   "outputs": [],
   "source": [
    "#"
   ]
  },
  {
   "cell_type": "markdown",
   "id": "14ebe26e",
   "metadata": {},
   "source": [
    "## 📊 문제 8: 특정 단어 포함 여부에 따른 제목 길이 비교\n",
    "- 영화 제목에 'Die'가 포함된 경우와 포함되지 않은 경우의 제목 길이를 비교해 박스플롯으로 시각화하세요."
   ]
  },
  {
   "cell_type": "code",
   "execution_count": null,
   "id": "e94d2f1f",
   "metadata": {},
   "outputs": [],
   "source": [
    "#"
   ]
  }
 ],
 "metadata": {
  "language_info": {
   "name": "python"
  }
 },
 "nbformat": 4,
 "nbformat_minor": 5
}
