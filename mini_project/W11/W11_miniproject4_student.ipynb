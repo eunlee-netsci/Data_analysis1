{
  "cells": [
    {
      "cell_type": "markdown",
      "metadata": {
        "id": "jKoO1rwMYpgu"
      },
      "source": [
        "# TASK #1. IMPORT AND EXPLORE DATASET"
      ]
    },
    {
      "cell_type": "code",
      "execution_count": null,
      "metadata": {
        "id": "5xYHzxzIX96P"
      },
      "outputs": [],
      "source": [
        "# 일단 판다스 임포트\n"
      ]
    },
    {
      "cell_type": "markdown",
      "source": [
        "### ecommerce data 를 import 하자."
      ],
      "metadata": {
        "id": "ekWuRb3td8eo"
      }
    },
    {
      "cell_type": "code",
      "source": [
        "#\n",
        "sales_df =   # encoding = 'unicode_escape' 옵션을 추가하여 데이터프레임으로 만듦."
      ],
      "metadata": {
        "id": "bUbAqxVYd7l3"
      },
      "execution_count": null,
      "outputs": []
    },
    {
      "cell_type": "markdown",
      "source": [
        "### 데이터타입을 확인하자."
      ],
      "metadata": {
        "id": "rCfR_2ubees-"
      }
    },
    {
      "cell_type": "code",
      "source": [
        "#"
      ],
      "metadata": {
        "id": "jy4gGp5CelaE"
      },
      "execution_count": null,
      "outputs": []
    },
    {
      "cell_type": "markdown",
      "source": [
        "### Invoice date 를 datetime format 으로 변경하자."
      ],
      "metadata": {
        "id": "J5l_HCHBevrg"
      }
    },
    {
      "cell_type": "code",
      "execution_count": null,
      "metadata": {
        "id": "3OqZHku_kte7"
      },
      "outputs": [],
      "source": [
        "# .to_datetime 를 사용한 후, 데이터타입이 잘 바뀌었는지 .info() 로 확인\n"
      ]
    },
    {
      "cell_type": "markdown",
      "source": [
        "### 데이터에 Null (NA) 값이 몇개 존재하는지 확인하자."
      ],
      "metadata": {
        "id": "HMLeVBA0fOwE"
      }
    },
    {
      "cell_type": "code",
      "source": [
        "#"
      ],
      "metadata": {
        "id": "Rik_7UxzfTRJ"
      },
      "execution_count": null,
      "outputs": []
    },
    {
      "cell_type": "markdown",
      "metadata": {
        "id": "kHbNxpzHL905"
      },
      "source": [
        "## MINI CHALLENGE #1:**\n",
        "- **How many unique countries are present in the dataset? List all countries**"
      ]
    },
    {
      "cell_type": "code",
      "execution_count": null,
      "metadata": {
        "id": "C2nvW606MWwc"
      },
      "outputs": [],
      "source": [
        "#"
      ]
    },
    {
      "cell_type": "markdown",
      "metadata": {
        "id": "GvntzUsa2q9n"
      },
      "source": [
        "# TASK #2. GROUPBY"
      ]
    },
    {
      "cell_type": "markdown",
      "source": [
        "### 데이터를 불러오자. sales_df 로"
      ],
      "metadata": {
        "id": "etyajfo3pBQo"
      }
    },
    {
      "cell_type": "code",
      "execution_count": null,
      "metadata": {
        "id": "Q6ECCoVR2trv"
      },
      "outputs": [],
      "source": [
        "#"
      ]
    },
    {
      "cell_type": "markdown",
      "source": [
        "### 각 나라에 해당하는 고객으로 그룹화해서, 평균 Unitprice 을 얻어보자."
      ],
      "metadata": {
        "id": "NEOO5iF5pb9S"
      }
    },
    {
      "cell_type": "code",
      "execution_count": null,
      "metadata": {
        "id": "L-ouZdVz2tvb"
      },
      "outputs": [],
      "source": [
        "#\n"
      ]
    },
    {
      "cell_type": "markdown",
      "source": [
        "### 각 나라에 속한 고객마다 최소 구매 금액 (UnitPrice) 를 구해보자."
      ],
      "metadata": {
        "id": "fuzUtN9UqKbV"
      }
    },
    {
      "cell_type": "code",
      "execution_count": null,
      "metadata": {
        "id": "Den792Gf2tx1"
      },
      "outputs": [],
      "source": [
        "#"
      ]
    },
    {
      "cell_type": "markdown",
      "source": [
        "### 각 나라별 최대 구매 금액을 구해보자."
      ],
      "metadata": {
        "id": "4u6joKF9qWNC"
      }
    },
    {
      "cell_type": "code",
      "execution_count": null,
      "metadata": {
        "id": "TFGRhpKb41i6"
      },
      "outputs": [],
      "source": [
        "#"
      ]
    },
    {
      "cell_type": "markdown",
      "source": [
        "### 구매 날짜 (InvoiceDate) 에 따라 그룹화하여, 같은 날에 구매한 사람들의 구매 금액 평균을 구해보자."
      ],
      "metadata": {
        "id": "G_kkqSBPqjfm"
      }
    },
    {
      "cell_type": "code",
      "execution_count": null,
      "metadata": {
        "id": "5cE53P4w2t5Y"
      },
      "outputs": [],
      "source": [
        "#"
      ]
    },
    {
      "cell_type": "markdown",
      "source": [
        "### 나라별 같은 날짜에 구매한 사람들을 묶어서 구매한 평균 금액을 구해보자."
      ],
      "metadata": {
        "id": "m4Cnekgwq6YG"
      }
    },
    {
      "cell_type": "code",
      "source": [
        "#"
      ],
      "metadata": {
        "id": "zY--vYwXrBCs"
      },
      "execution_count": null,
      "outputs": []
    },
    {
      "cell_type": "markdown",
      "metadata": {
        "id": "KftQG_rRRa2b"
      },
      "source": [
        "### MINI CHALLENGE #2:**\n",
        "- **What is the maximum and minimum prices at 2011-12-09 12:25:00**"
      ]
    },
    {
      "cell_type": "code",
      "execution_count": null,
      "metadata": {
        "id": "uzp16oavUjL-"
      },
      "outputs": [],
      "source": [
        "#"
      ]
    },
    {
      "cell_type": "markdown",
      "metadata": {
        "id": "Skt-35zeYyDl"
      },
      "source": [
        "# TASK #3. CREATE MULTI-INDEXED DATAFRAME"
      ]
    },
    {
      "cell_type": "markdown",
      "source": [
        "### 데이터를 불러오자. 깨끗하게."
      ],
      "metadata": {
        "id": "wLisHp-prnP0"
      }
    },
    {
      "cell_type": "code",
      "execution_count": null,
      "metadata": {
        "id": "SouGsc0BY25T"
      },
      "outputs": [],
      "source": [
        "sales_df = pd.read_csv('ecommerce_sales.csv', encoding = 'unicode_escape')\n",
        "sales_df"
      ]
    },
    {
      "cell_type": "markdown",
      "source": [
        "### 고유한 국가와 Invoice Date 가 몇개 있는지 확인해보자. 무엇을 상위 인덱스로 사용하는게 좋을지 결정하라."
      ],
      "metadata": {
        "id": "l_dPnZkVsl8E"
      }
    },
    {
      "cell_type": "code",
      "execution_count": null,
      "metadata": {
        "id": "hSedV2YAaWbk"
      },
      "outputs": [],
      "source": [
        "#"
      ]
    },
    {
      "cell_type": "markdown",
      "source": [
        "### 다시 데이터 프레임의 인덱스를 위에서 결정한 순서의 멀티 인덱스로 설정하라. (국가와 InvoiceDate)."
      ],
      "metadata": {
        "id": "HIJs9rgctH7F"
      }
    },
    {
      "cell_type": "code",
      "source": [
        "#"
      ],
      "metadata": {
        "id": "OcwgJXyktSID"
      },
      "execution_count": null,
      "outputs": []
    },
    {
      "cell_type": "markdown",
      "source": [
        "### Country 를 중심으로 정렬해보자."
      ],
      "metadata": {
        "id": "qET7tjMKtlwO"
      }
    },
    {
      "cell_type": "code",
      "execution_count": null,
      "metadata": {
        "id": "lAm9yjqMkazG"
      },
      "outputs": [],
      "source": [
        "# Sort countries to start with alphabetical order\n"
      ]
    },
    {
      "cell_type": "markdown",
      "source": [
        "### 인덱스를 여러개 사용하여 특정 값에 접근해야함. 인덱스 형태를 확인해보자."
      ],
      "metadata": {
        "id": "SAONxR84txh1"
      }
    },
    {
      "cell_type": "code",
      "execution_count": null,
      "metadata": {
        "id": "1MKNr_9WkkQn"
      },
      "outputs": [],
      "source": [
        "# Now you need more than one index to access any element\n"
      ]
    },
    {
      "cell_type": "markdown",
      "source": [
        "### 인덱스에 해당하는 열들의 이름을 확인해보자."
      ],
      "metadata": {
        "id": "NVhy2Fb6uBa0"
      }
    },
    {
      "cell_type": "code",
      "execution_count": null,
      "metadata": {
        "id": "ullJMBP6kpi7"
      },
      "outputs": [],
      "source": [
        "#"
      ]
    },
    {
      "cell_type": "markdown",
      "metadata": {
        "id": "bcjijKoOVy72"
      },
      "source": [
        "## MINI CHALLENGE #3:**\n",
        "- **Sort the DataFrame in a descending order (countries and dates)**"
      ]
    },
    {
      "cell_type": "code",
      "execution_count": null,
      "metadata": {
        "id": "g58yGNL-XcyN"
      },
      "outputs": [],
      "source": [
        "#"
      ]
    },
    {
      "cell_type": "markdown",
      "metadata": {
        "id": "ZXor3Qk3mPbu"
      },
      "source": [
        "# TASK #4. MULTI-INDEXING OPERATIONS - PART #1"
      ]
    },
    {
      "cell_type": "code",
      "execution_count": null,
      "metadata": {
        "id": "brgnizTfmaRM"
      },
      "outputs": [],
      "source": [
        "# 깨끗한 데이터를 불러오되, Country 가 제일 바깥 인덱스, 그 다음이 InvoiceDate 가 되도록 하여서 불러오자"
      ]
    },
    {
      "cell_type": "markdown",
      "source": [
        "### get_leve_values(레벨번호)  를 적용해서, 해당 레벨의 인덱스 값들을 얻어보자."
      ],
      "metadata": {
        "id": "erSiaffEyD6r"
      }
    },
    {
      "cell_type": "code",
      "execution_count": null,
      "metadata": {
        "id": "M-YKNsOqmVVA"
      },
      "outputs": [],
      "source": [
        "#  Country 는  레벨 0, InvoiceDate 는 레벨 1 (이름을 넣어서 구할 수도 있음)"
      ]
    },
    {
      "cell_type": "markdown",
      "source": [
        "### 멀티인덱스의 이름을 바꿔보자.  set_names 사용."
      ],
      "metadata": {
        "id": "OTZ4wt7vytj6"
      }
    },
    {
      "cell_type": "code",
      "execution_count": null,
      "metadata": {
        "id": "-NRh69EImVcQ"
      },
      "outputs": [],
      "source": [
        "#"
      ]
    },
    {
      "cell_type": "markdown",
      "metadata": {
        "id": "YqGCOQvnaVQP"
      },
      "source": [
        "## MINI CHALLENGE #4:**\n",
        "- **Use InvoiceDate and Country in order as the multi-index**"
      ]
    },
    {
      "cell_type": "code",
      "execution_count": null,
      "metadata": {
        "id": "0YwPgE6PalfV"
      },
      "outputs": [],
      "source": [
        "#"
      ]
    },
    {
      "cell_type": "markdown",
      "metadata": {
        "id": "vHHj-T8RYnu8"
      },
      "source": [
        "# TASK #5. MULTI-INDEXING OPERATIONS - PART #2"
      ]
    },
    {
      "cell_type": "code",
      "execution_count": null,
      "metadata": {
        "id": "BIuOHrxCctUX"
      },
      "outputs": [],
      "source": [
        "sales_df = pd.read_csv('ecommerce_sales.csv', encoding = 'unicode_escape')\n",
        "sales_df.set_index(keys = [\"Country\", \"InvoiceDate\"], inplace = True) # 일단 부른다음 다시 인덱스 설정도 가능.\n",
        "# Sort countries to start with alphabetical order\n",
        "sales_df.sort_index(inplace = True)\n",
        "sales_df"
      ]
    },
    {
      "cell_type": "markdown",
      "source": [
        "### 현재 데이터에서 loc 을 사용하여, 2011년 1월 11일의 Australia 에서 판매된 금액 내역에 접근해보자."
      ],
      "metadata": {
        "id": "mlsejUzczVIZ"
      }
    },
    {
      "cell_type": "code",
      "execution_count": null,
      "metadata": {
        "id": "UpKX3zQnmVf8"
      },
      "outputs": [],
      "source": [
        "# you can use a multi-index reference to access specific elements\n",
        "# Alternatively, you can use a column name instead\n"
      ]
    },
    {
      "cell_type": "markdown",
      "source": [
        "###  iloc 을 사용하여 위와 동일한 정보에 접근해보자."
      ],
      "metadata": {
        "id": "lNCxXDO20-9L"
      }
    },
    {
      "cell_type": "code",
      "execution_count": null,
      "metadata": {
        "id": "0hK5lwwtmVh1"
      },
      "outputs": [],
      "source": [
        "# feed index as a tuple (important to avoid confusion)\n",
        "# first argument references rows and the second argument references a column\n"
      ]
    },
    {
      "cell_type": "markdown",
      "source": [
        "### sales_df 를 transpose 한 다음에 어떤 형태가 되는지 확인해보자."
      ],
      "metadata": {
        "id": "IQMeCDs-29kg"
      }
    },
    {
      "cell_type": "code",
      "execution_count": null,
      "metadata": {
        "id": "dar-a3ZjxN7e"
      },
      "outputs": [],
      "source": [
        "# You can use transpose to Transpose indexes and columns\n",
        "# reflect the DataFrame over its main diagonal by writing rows as columns and vice-versa.\n",
        "\n"
      ]
    },
    {
      "cell_type": "markdown",
      "source": [
        "### 이렇게 변환된 매트릭스에서 UnitPrice 의 Australia 와 1/10/2011 9:58 에 얻어진 주문 내역을 뽑아 보자."
      ],
      "metadata": {
        "id": "dnqlX8cL3WyS"
      }
    },
    {
      "cell_type": "code",
      "execution_count": null,
      "metadata": {
        "id": "4DhO2mApy_Vq"
      },
      "outputs": [],
      "source": [
        "#"
      ]
    },
    {
      "cell_type": "markdown",
      "source": [
        "### 이 상태에서 여러 행의 정보를 얻고 싶다면? 'Australia', '1/10/2011 9:58' 열부터 ('Belgium', '1/10/2011 8:58') 열까지."
      ],
      "metadata": {
        "id": "1fSsoL553r8s"
      }
    },
    {
      "cell_type": "code",
      "source": [
        "#"
      ],
      "metadata": {
        "id": "dF3o-rxr3vie"
      },
      "execution_count": null,
      "outputs": []
    },
    {
      "cell_type": "markdown",
      "metadata": {
        "id": "kHRHQLLne907"
      },
      "source": [
        "### MINI CHALLENGE #5:**\n",
        "- **Calculate the average unit price for transactions occured in \"United Kingdom\" at \"12/1/2010 8:26\"**"
      ]
    },
    {
      "cell_type": "code",
      "execution_count": null,
      "metadata": {
        "id": "kvG39mWGbamc"
      },
      "outputs": [],
      "source": [
        "#"
      ]
    },
    {
      "cell_type": "markdown",
      "metadata": {
        "id": "jDBN00YtfVsc"
      },
      "source": [
        "# TASK #6. DEALING WITH DATE TIME - BASIC PYTHON DATETIME MODULE"
      ]
    },
    {
      "cell_type": "markdown",
      "source": [
        "### 파이썬의 코어 함수 datetime 모듈을 알아보자. (판다스 상관없음) 이를 위해, datetime 모듈을 dt 로 임포트하자."
      ],
      "metadata": {
        "id": "-da65IQM6GrS"
      }
    },
    {
      "cell_type": "code",
      "source": [
        "# datetime is one of Python's core standard libraries\n",
        "# We are going to use two methods to deal with dates/times: (1) date and (2) dateime\n",
        "# date: helps us define dates only without including time (month, day, year)\n",
        "# datetime: helps us define times and dates together (month, day, year, hour, second, microsecond)\n",
        "\n",
        "#"
      ],
      "metadata": {
        "id": "m9X2GZdH6SEj"
      },
      "execution_count": null,
      "outputs": []
    },
    {
      "cell_type": "markdown",
      "source": [
        "### 자신의 생일을 날짜형 데이터로 만들어보자. (dt.date)"
      ],
      "metadata": {
        "id": "mx1Qjmot6ZZ2"
      }
    },
    {
      "cell_type": "code",
      "execution_count": null,
      "metadata": {
        "id": "e7wtnSGxbamc"
      },
      "outputs": [],
      "source": [
        "#\n",
        "\n",
        "\n"
      ]
    },
    {
      "cell_type": "markdown",
      "source": [
        "### 그 데이터를 문자 형태로 만들어보자. str() 함수 사용"
      ],
      "metadata": {
        "id": "v31_ObMW6mjl"
      }
    },
    {
      "cell_type": "code",
      "execution_count": null,
      "metadata": {
        "id": "_3dPl8y5bamc"
      },
      "outputs": [],
      "source": [
        "# Check the data type (datetime object)\n"
      ]
    },
    {
      "cell_type": "code",
      "execution_count": null,
      "metadata": {
        "id": "l74k6wimbamc"
      },
      "outputs": [],
      "source": [
        "# Convert it into string to view the date and time\n"
      ]
    },
    {
      "cell_type": "markdown",
      "source": [
        "### 이 date 는 연도, 월, 일을 속성으로 갖고 이를 분리할 수 있음."
      ],
      "metadata": {
        "id": "Ob3Pnvo76ubo"
      }
    },
    {
      "cell_type": "code",
      "source": [
        "# 각각으로 분리해보자."
      ],
      "metadata": {
        "id": "tUUc6S4q62h1"
      },
      "execution_count": null,
      "outputs": []
    },
    {
      "cell_type": "markdown",
      "source": [
        "###  자신이 태어난 시간도 포함해서 datetime 객체로 만들어보자."
      ],
      "metadata": {
        "id": "jwyxuNuu6-di"
      }
    },
    {
      "cell_type": "code",
      "execution_count": null,
      "metadata": {
        "id": "ZlsX24DJbamd"
      },
      "outputs": [],
      "source": [
        "#\n"
      ]
    },
    {
      "cell_type": "markdown",
      "source": [
        "### 자신의 생일과 태어난 시간을 각각 분리해보자."
      ],
      "metadata": {
        "id": "AdMCD2Fn7LOm"
      }
    },
    {
      "cell_type": "code",
      "execution_count": null,
      "metadata": {
        "id": "a22i1fNabamd"
      },
      "outputs": [],
      "source": [
        "#\n"
      ]
    },
    {
      "cell_type": "markdown",
      "source": [
        "### 달력을 출력할 수 있을까? 다음을 실행해보자."
      ],
      "metadata": {
        "id": "VF6ICGU77Spl"
      }
    },
    {
      "cell_type": "code",
      "source": [
        "#\n",
        "import calendar\n",
        "print(calendar.month(2021, 3))"
      ],
      "metadata": {
        "id": "fubBo_f97a2W"
      },
      "execution_count": null,
      "outputs": []
    },
    {
      "cell_type": "markdown",
      "source": [
        "### 판다스의 문자 시리즈를 datetime 형태로 만들자."
      ],
      "metadata": {
        "id": "JTU9YGxd7g6U"
      }
    },
    {
      "cell_type": "code",
      "source": [
        "# 팀원의 생일날짜 문자로 된 시리즈를 만들어보자.\n",
        "dates = pd."
      ],
      "metadata": {
        "id": "En6RWHdW7tKQ"
      },
      "execution_count": null,
      "outputs": []
    },
    {
      "cell_type": "markdown",
      "source": [
        "#### 만들어진 dates 시리즈를 pd.to_datetime() 에 인풋으로 보내 데이트타임 형태로 변환시켜보자."
      ],
      "metadata": {
        "id": "7oOecaPr8L5S"
      }
    },
    {
      "cell_type": "code",
      "source": [
        "#"
      ],
      "metadata": {
        "id": "mWDLOsoP8TNG"
      },
      "execution_count": null,
      "outputs": []
    },
    {
      "cell_type": "markdown",
      "metadata": {
        "id": "BECRKVhTbamd"
      },
      "source": [
        "## MINI CHALLENGE #6:**\n",
        "- **Use Python's datetime method to write your date and time of your birth! Convert it into string format**\n"
      ]
    },
    {
      "cell_type": "code",
      "execution_count": null,
      "metadata": {
        "id": "69nLHl80bamd"
      },
      "outputs": [],
      "source": [
        "#"
      ]
    },
    {
      "cell_type": "markdown",
      "metadata": {
        "id": "ViSG0iiXbamd"
      },
      "source": [
        "# TASK #7. DEALING WITH DATE TIME - HANDLING DATES AND TIMES USING PANDAS"
      ]
    },
    {
      "cell_type": "markdown",
      "source": [
        "### 판다스에서 날짜 시간 데이터 다루기: pd.Timestamp 로 자신의 생일에 해당하는 객체를 만들어보자.\n"
      ],
      "metadata": {
        "id": "GCjWvqPV9lTE"
      }
    },
    {
      "cell_type": "code",
      "execution_count": null,
      "metadata": {
        "id": "SRMq-Saebamd"
      },
      "outputs": [],
      "source": [
        "# Timestamp is the pandas equivalent of python’s Datetime and is interchangeable with it in most cases.\n",
        "\n"
      ]
    },
    {
      "cell_type": "markdown",
      "source": [
        "### datetime object 로 생일을 만든다음, Timestamp 로 변형해보자."
      ],
      "metadata": {
        "id": "CwuaYwBD97o3"
      }
    },
    {
      "cell_type": "code",
      "execution_count": null,
      "metadata": {
        "id": "ovduLyjGbamd"
      },
      "outputs": [],
      "source": [
        "#\n"
      ]
    },
    {
      "cell_type": "markdown",
      "source": [
        "### 시간에 대한 연산을 하기가 좋다. 판다스에서 날짜 시간 객체를 잘 다루면!"
      ],
      "metadata": {
        "id": "aBK8oExC-OMC"
      }
    },
    {
      "cell_type": "code",
      "execution_count": null,
      "metadata": {
        "id": "F9Js9Sinbamd"
      },
      "outputs": [],
      "source": [
        "# Calculate difference between two dates: 팀원의 생일 사이 차이를 계산해보라.\n",
        "\n"
      ]
    },
    {
      "cell_type": "markdown",
      "source": [
        "### 임의로 세 날짜를 지정한 후, 이 날짜들을 리스트로 만들어보라."
      ],
      "metadata": {
        "id": "ozl231M5-nPt"
      }
    },
    {
      "cell_type": "code",
      "execution_count": null,
      "metadata": {
        "id": "PALce1Dgbamd"
      },
      "outputs": [],
      "source": [
        "#"
      ]
    },
    {
      "cell_type": "markdown",
      "source": [
        "### DatetimeIndex 를 써서 날짜로 이루어진 데이터 집합을 만들어보자."
      ],
      "metadata": {
        "id": "FyCkb63n-0ni"
      }
    },
    {
      "cell_type": "code",
      "execution_count": null,
      "metadata": {
        "id": "hh8qDK3bbamd"
      },
      "outputs": [],
      "source": [
        "#"
      ]
    },
    {
      "cell_type": "markdown",
      "source": [
        "### 가게 판매량에 대한 다음과 같은 리스트가 있다고 해보자."
      ],
      "metadata": {
        "id": "mwd5W1sm_XKE"
      }
    },
    {
      "cell_type": "code",
      "execution_count": null,
      "metadata": {
        "id": "mUoqWS-hbamd"
      },
      "outputs": [],
      "source": [
        "# Define a list that carries 3 values corresponding to store sales\n",
        "sales = [50, 55, 60] # 임의의 값"
      ]
    },
    {
      "cell_type": "markdown",
      "source": [
        "### 그 판매량을 시리즈로 만들어보자. 이 때 인덱스를 위에서 만든 datetimeindex 로 설정해보자."
      ],
      "metadata": {
        "id": "FZH44Nvi_qYp"
      }
    },
    {
      "cell_type": "code",
      "source": [
        "#"
      ],
      "metadata": {
        "id": "WdnLv64K_t1W"
      },
      "execution_count": null,
      "outputs": []
    },
    {
      "cell_type": "markdown",
      "source": [
        "### date_range 를 사용하여 2020년 1월 1일부터 2020년 4월 1일까지의 날짜를 1일 간격으로 만들어보라."
      ],
      "metadata": {
        "id": "szHeNEW3_5et"
      }
    },
    {
      "cell_type": "code",
      "execution_count": null,
      "metadata": {
        "id": "l79hDR1tbamd"
      },
      "outputs": [],
      "source": [
        "#\n"
      ]
    },
    {
      "cell_type": "markdown",
      "source": [
        "### 위에서 date_range 로 만든 날짜 형태들의 집합과 그 안에 속한 한 요소의 데이터 타입을 확인하라."
      ],
      "metadata": {
        "id": "Gx6dmCF6ALYj"
      }
    },
    {
      "cell_type": "code",
      "source": [
        "#"
      ],
      "metadata": {
        "id": "G4yEOfRFARSb"
      },
      "execution_count": null,
      "outputs": []
    },
    {
      "cell_type": "markdown",
      "source": [
        "### 위의 시작과 끝 날짜 범위에서 한달 차이가 나는 날짜들의 집합을 생성해보라."
      ],
      "metadata": {
        "id": "9q_DnkKfAeTv"
      }
    },
    {
      "cell_type": "code",
      "execution_count": null,
      "metadata": {
        "id": "w3tHNimUbame"
      },
      "outputs": [],
      "source": [
        "#"
      ]
    },
    {
      "cell_type": "markdown",
      "metadata": {
        "id": "hJV_HMiXbame"
      },
      "source": [
        "### MINI CHALLENGE #7:**\n",
        "- **Obtain the business days between 2020-01-01 and 2020-04-01**"
      ]
    },
    {
      "cell_type": "code",
      "execution_count": null,
      "metadata": {
        "id": "VfKK-6qHbame"
      },
      "outputs": [],
      "source": [
        "#"
      ]
    },
    {
      "cell_type": "markdown",
      "source": [
        "----"
      ],
      "metadata": {
        "id": "fzpDcT8uBQBx"
      }
    },
    {
      "cell_type": "markdown",
      "source": [
        "# 1. ecommerce 에서 배송 기간의 분포를 그려보자 (수업시간 데이터)"
      ],
      "metadata": {
        "id": "75thCsfTBRjK"
      }
    },
    {
      "cell_type": "code",
      "source": [
        "#"
      ],
      "metadata": {
        "id": "PNhLVqK1BQ8U"
      },
      "execution_count": null,
      "outputs": []
    },
    {
      "cell_type": "markdown",
      "source": [
        "# 2. 월별 평균 배송 기간을 플랏하라."
      ],
      "metadata": {
        "id": "7QvDR8SeCQJT"
      }
    },
    {
      "cell_type": "code",
      "source": [
        "#"
      ],
      "metadata": {
        "id": "JoDcb2BxCTNq"
      },
      "execution_count": null,
      "outputs": []
    },
    {
      "cell_type": "markdown",
      "source": [
        "# 3. 2000년도 IBM 거래량을 플랏해보라."
      ],
      "metadata": {
        "id": "8ozqssz0DH4H"
      }
    },
    {
      "cell_type": "code",
      "source": [
        "#"
      ],
      "metadata": {
        "id": "X6Rj6mmvDLRA"
      },
      "execution_count": null,
      "outputs": []
    }
  ],
  "metadata": {
    "colab": {
      "provenance": []
    },
    "kernelspec": {
      "display_name": "Python 3 (ipykernel)",
      "language": "python",
      "name": "python3"
    },
    "language_info": {
      "codemirror_mode": {
        "name": "ipython",
        "version": 3
      },
      "file_extension": ".py",
      "mimetype": "text/x-python",
      "name": "python",
      "nbconvert_exporter": "python",
      "pygments_lexer": "ipython3",
      "version": "3.10.6"
    }
  },
  "nbformat": 4,
  "nbformat_minor": 0
}