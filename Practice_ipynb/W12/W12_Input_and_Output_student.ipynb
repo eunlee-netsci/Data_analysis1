{
  "cells": [
    {
      "cell_type": "markdown",
      "metadata": {
        "id": "VfTjhd68_x7G"
      },
      "source": [
        "# Input and Output"
      ]
    },
    {
      "cell_type": "markdown",
      "source": [
        "#### 다양한 파일을 불러오고, 또 데이터프레임을 다양한 파일 형태로 저장하기"
      ],
      "metadata": {
        "id": "zgnqcf3oGJv8"
      }
    },
    {
      "cell_type": "code",
      "execution_count": null,
      "metadata": {
        "id": "PMK0Y479_x7G"
      },
      "outputs": [],
      "source": [
        "# 판다스 임포트\n",
        "import pandas as pd"
      ]
    },
    {
      "cell_type": "code",
      "source": [
        "url = \"https://data.cityofnewyork.us/api/views/25th-nujf/rows.csv\" # 인터넷의 파일 링크를 저장\n",
        "                                                                   # 뉴욕의 인기 있는 아기 이름 데이터가 온라인 상에 저장됨."
      ],
      "metadata": {
        "id": "5pCvQp2YGVp7"
      },
      "execution_count": null,
      "outputs": []
    },
    {
      "cell_type": "code",
      "source": [
        "# url 을 사용해서 read_csv 로 파일을 데이터 프레임으로 불러와보자.\n",
        "baby_names = pd.___(url)\n",
        "baby_names.head()"
      ],
      "metadata": {
        "id": "zoFbJBqxGqlx"
      },
      "execution_count": null,
      "outputs": []
    },
    {
      "cell_type": "code",
      "source": [
        "# 각 열은 무엇을 의미할까?\n",
        "# Year of Birth:\n",
        "# Gender :\n",
        "# Ethinicity\n",
        "# Child's First Name:\n",
        "# Count:\n",
        "# Rank :"
      ],
      "metadata": {
        "id": "r7czg63IG7F_"
      },
      "execution_count": null,
      "outputs": []
    },
    {
      "cell_type": "markdown",
      "metadata": {
        "id": "kTATGEDz_x7H"
      },
      "source": [
        "## Export DataFrame to CSV File\n",
        "- The `to_csv` method exports a **DataFrame** to a CSV file.\n",
        "- Its first argument is the filename.\n",
        "- By default, pandas will include the index. Set the `index` parameter to False to exclude the index.\n",
        "- The `columns` parameter limits the exported columns."
      ]
    },
    {
      "cell_type": "markdown",
      "source": [
        "\n",
        "\n",
        "* `to_csv` 메서드는 **DataFrame**을 CSV 파일로 내보냄.\n",
        "* 첫 번째 인자는 파일 이름.\n",
        "* 기본적으로 pandas는 인덱스를 포함하며, 인덱스를 제외하려면 `index` 매개변수를 `False`로 설정.\n",
        "* `columns` 매개변수는 내보낼 열을 제한할 수 있음.\n"
      ],
      "metadata": {
        "id": "RAtAO7BOBQnq"
      }
    },
    {
      "cell_type": "markdown",
      "source": [
        "### 1. 제일 기본은 csv 파일을 사용하는 것."
      ],
      "metadata": {
        "id": "2YMaQlP4HMlS"
      }
    },
    {
      "cell_type": "code",
      "execution_count": null,
      "metadata": {
        "id": "6B4tIbS5_x7H",
        "outputId": "55f6d804-f5ea-4b97-e918-c5277dbcd994"
      },
      "outputs": [
        {
          "data": {
            "text/html": [
              "<div>\n",
              "<style scoped>\n",
              "    .dataframe tbody tr th:only-of-type {\n",
              "        vertical-align: middle;\n",
              "    }\n",
              "\n",
              "    .dataframe tbody tr th {\n",
              "        vertical-align: top;\n",
              "    }\n",
              "\n",
              "    .dataframe thead th {\n",
              "        text-align: right;\n",
              "    }\n",
              "</style>\n",
              "<table border=\"1\" class=\"dataframe\">\n",
              "  <thead>\n",
              "    <tr style=\"text-align: right;\">\n",
              "      <th></th>\n",
              "      <th>Year of Birth</th>\n",
              "      <th>Gender</th>\n",
              "      <th>Ethnicity</th>\n",
              "      <th>Child's First Name</th>\n",
              "      <th>Count</th>\n",
              "      <th>Rank</th>\n",
              "    </tr>\n",
              "  </thead>\n",
              "  <tbody>\n",
              "    <tr>\n",
              "      <th>0</th>\n",
              "      <td>2011</td>\n",
              "      <td>FEMALE</td>\n",
              "      <td>HISPANIC</td>\n",
              "      <td>GERALDINE</td>\n",
              "      <td>13</td>\n",
              "      <td>75</td>\n",
              "    </tr>\n",
              "    <tr>\n",
              "      <th>1</th>\n",
              "      <td>2011</td>\n",
              "      <td>FEMALE</td>\n",
              "      <td>HISPANIC</td>\n",
              "      <td>GIA</td>\n",
              "      <td>21</td>\n",
              "      <td>67</td>\n",
              "    </tr>\n",
              "    <tr>\n",
              "      <th>2</th>\n",
              "      <td>2011</td>\n",
              "      <td>FEMALE</td>\n",
              "      <td>HISPANIC</td>\n",
              "      <td>GIANNA</td>\n",
              "      <td>49</td>\n",
              "      <td>42</td>\n",
              "    </tr>\n",
              "    <tr>\n",
              "      <th>3</th>\n",
              "      <td>2011</td>\n",
              "      <td>FEMALE</td>\n",
              "      <td>HISPANIC</td>\n",
              "      <td>GISELLE</td>\n",
              "      <td>38</td>\n",
              "      <td>51</td>\n",
              "    </tr>\n",
              "    <tr>\n",
              "      <th>4</th>\n",
              "      <td>2011</td>\n",
              "      <td>FEMALE</td>\n",
              "      <td>HISPANIC</td>\n",
              "      <td>GRACE</td>\n",
              "      <td>36</td>\n",
              "      <td>53</td>\n",
              "    </tr>\n",
              "  </tbody>\n",
              "</table>\n",
              "</div>"
            ],
            "text/plain": [
              "   Year of Birth  Gender Ethnicity Child's First Name  Count  Rank\n",
              "0           2011  FEMALE  HISPANIC          GERALDINE     13    75\n",
              "1           2011  FEMALE  HISPANIC                GIA     21    67\n",
              "2           2011  FEMALE  HISPANIC             GIANNA     49    42\n",
              "3           2011  FEMALE  HISPANIC            GISELLE     38    51\n",
              "4           2011  FEMALE  HISPANIC              GRACE     36    53"
            ]
          },
          "execution_count": 3,
          "metadata": {},
          "output_type": "execute_result"
        }
      ],
      "source": [
        "# 위에서 불러왔던 아기 이름 데이터를 다시 활용해보자.\n",
        "url =\n",
        "baby_names =\n",
        "baby_names.head()"
      ]
    },
    {
      "cell_type": "markdown",
      "source": [
        "### 2. 이를 로컬 컴퓨터에 csv 파일로 저장해보자. (to_csv 외에 다양한 저장 형태가 가능)"
      ],
      "metadata": {
        "id": "k551W5dTHgZV"
      }
    },
    {
      "cell_type": "code",
      "source": [
        "# 어떤 저장 가능한 파일형이 있는지 한번 확인해보자."
      ],
      "metadata": {
        "id": "sdOwSdjlHntg"
      },
      "execution_count": null,
      "outputs": []
    },
    {
      "cell_type": "code",
      "source": [
        "# baby_names.csv 로 로컬 컴퓨터에 저장해보자. index = False 로. index = True (default) 일 때와 무엇이 다른가?"
      ],
      "metadata": {
        "id": "SI7ruibIHsCk"
      },
      "execution_count": null,
      "outputs": []
    },
    {
      "cell_type": "code",
      "source": [
        "# 현재 데이터 프레임 중 특정 열 \"Year of Birth\", \"Child's First Name\", \"Count\" 만 저장하도록 하자.\n",
        "# columns 옵션을 사용한다."
      ],
      "metadata": {
        "id": "Ts3lxbaEH5-N"
      },
      "execution_count": null,
      "outputs": []
    },
    {
      "cell_type": "markdown",
      "metadata": {
        "id": "h2LMw7Kr_x7H"
      },
      "source": [
        "## Install openpyxl Library to Read and Write Excel Files"
      ]
    },
    {
      "cell_type": "markdown",
      "metadata": {
        "id": "pzjwTyfc_x7H"
      },
      "source": [
        "## Import Excel File into pandas\n",
        "- The `read_excel` function reads an Excel file/workbook into a **DataFrame**.\n",
        "- Use the `sheet_name` parameter if the workbook contains multiple worksheets. Pass a single worksheet name or a list of worksheet names/index positions.\n",
        "- Pass the `sheet_name` parameter an argument of **None** to include all worksheets.\n",
        "- Pandas will store multiple worksheets in a Python dictionary. The keys will be the worksheet names, and the values will be the **DataFrames**."
      ]
    },
    {
      "cell_type": "markdown",
      "source": [
        "- read_excel 함수는 Excel 파일 또는 워크북을\n",
        "DataFrame으로 불러옴.\n",
        "\n",
        "- 워크북에 여러 워크시트가 있는 경우 sheet_name 매개변수를 사용해야함. 워크시트 이름 하나 또는 이름/인덱스의 리스트를 전달할 수 있음.\n",
        "\n",
        "- 모든 워크시트를 포함하려면 sheet_name 매개변수에 None을 전달.\n",
        "\n",
        "- Pandas는 여러 워크시트를 Python 딕셔너리에 저장하며, 키는 워크시트 이름이고 값은 각각의 DataFrame.\n",
        "\n",
        "\n",
        "\n",
        "\n",
        "\n",
        "\n",
        "\n"
      ],
      "metadata": {
        "id": "yua0LwzQBazR"
      }
    },
    {
      "cell_type": "code",
      "source": [
        "# excel 을 다루기 위해 개인 컴퓨터 중에 openpyxl  모듈을 깔아야할 수도 있음."
      ],
      "metadata": {
        "id": "kl3y9VVxJe7B"
      },
      "execution_count": null,
      "outputs": []
    },
    {
      "cell_type": "code",
      "source": [
        "# Data - Single Worksheet.xlsx 파일을 read_excel 을 사용하여 데이터 프레임 형태로 불러오자.\n",
        "# 원본 데이터가 어떻게 생겼는지 확인해보자.\n",
        "df = _\n",
        "df.head()"
      ],
      "metadata": {
        "id": "p5GunnmUJtmF"
      },
      "execution_count": null,
      "outputs": []
    },
    {
      "cell_type": "markdown",
      "source": [
        "### 여러 sheet 가 있는 Multiple Worksheets 도 열어보자."
      ],
      "metadata": {
        "id": "2oIFo9AJKM7g"
      }
    },
    {
      "cell_type": "code",
      "source": [
        "# read_excel 로 Data - Multiple Worksheets.xlsx 를 갖고와보자. 아무 옵션 없이.\n",
        "# 모든 sheet 가 import 되었는가?"
      ],
      "metadata": {
        "id": "-SetWghqKR5i"
      },
      "execution_count": null,
      "outputs": []
    },
    {
      "cell_type": "markdown",
      "source": [
        "### sheet_name 파라미터를 사용하여 각각의 sheet 이름을 통해 하나씩 불러와, df1, df2 로 저장해보자."
      ],
      "metadata": {
        "id": "LlrMzTrOKzjH"
      }
    },
    {
      "cell_type": "code",
      "source": [
        "# sheet_name = \"Data 1\""
      ],
      "metadata": {
        "id": "1gIWzfdSK8oX"
      },
      "execution_count": null,
      "outputs": []
    },
    {
      "cell_type": "code",
      "source": [
        "# sheet_name = \"Data 2\""
      ],
      "metadata": {
        "id": "-OVyshIbK_K5"
      },
      "execution_count": null,
      "outputs": []
    },
    {
      "cell_type": "markdown",
      "source": [
        "### sheet_name 에 sheet 의 인덱스를 넣어서 불러올 수도 있음."
      ],
      "metadata": {
        "id": "TKH4PYxULEEG"
      }
    },
    {
      "cell_type": "code",
      "source": [
        "# 0과 1 로 매겨진 순서에 맞추어 sheet 를 각각 df1_int, df2_int 로 저장해보자."
      ],
      "metadata": {
        "id": "FI2w3Uw7LJvb"
      },
      "execution_count": null,
      "outputs": []
    },
    {
      "cell_type": "markdown",
      "source": [
        "### sheet_name 을 리스트로 넘겨줄 수도 있다-> sheet 가 각각 딕셔너리로 불려옴."
      ],
      "metadata": {
        "id": "TT3OfeUkLSxk"
      }
    },
    {
      "cell_type": "code",
      "source": [
        "#\n",
        "pd.read_excel(\"Data - Multiple Worksheets.xlsx\", sheet_name=[_, _])"
      ],
      "metadata": {
        "id": "td5ccOVdLaVJ"
      },
      "execution_count": null,
      "outputs": []
    },
    {
      "cell_type": "markdown",
      "source": [
        "### sheet 인덱스의 리스트로 불러올 수도 있음."
      ],
      "metadata": {
        "id": "jzGb8ilgLtPk"
      }
    },
    {
      "cell_type": "code",
      "source": [
        "#"
      ],
      "metadata": {
        "id": "kFlIOEbHLwt-"
      },
      "execution_count": null,
      "outputs": []
    },
    {
      "cell_type": "markdown",
      "source": [
        "### 이름으로 다 보내야하는데, 그럴려면 sheet 이름을 다 알아야함. 그렇지 않고, 전체 sheet 를 일단 다 불러오려면 sheet_name = None 옵션을 사용"
      ],
      "metadata": {
        "id": "ZzJZ3uTuLntm"
      }
    },
    {
      "cell_type": "code",
      "source": [
        "#"
      ],
      "metadata": {
        "id": "dB7KrEl2L2EH"
      },
      "execution_count": null,
      "outputs": []
    },
    {
      "cell_type": "markdown",
      "source": [
        "### 전체를 모두 데이터프레임 data 에 저장하고, \"Data 1\" sheet 에 접근하려면 sheet 이름을 key 로 사용하여 접근할 수 있음."
      ],
      "metadata": {
        "id": "u6KPJuoxL4s1"
      }
    },
    {
      "cell_type": "code",
      "source": [
        "# \"Data 1\" 에 해당하는 데이터 프레임 갖고 오기."
      ],
      "metadata": {
        "id": "LZUs-wt_MCvS"
      },
      "execution_count": null,
      "outputs": []
    },
    {
      "cell_type": "code",
      "source": [
        "# \"Data 1\" 에 해당하는 데이터 프레임 갖고 오기."
      ],
      "metadata": {
        "id": "ZLoXrKBQMF64"
      },
      "execution_count": null,
      "outputs": []
    },
    {
      "cell_type": "markdown",
      "source": [
        "### 엑셀 파일에 있는 모든 sheet 의 이름을 갖고 오려면:\n"
      ],
      "metadata": {
        "id": "Ty6dNWh4MQBv"
      }
    },
    {
      "cell_type": "markdown",
      "source": [
        "pd.ExcelFile은 Excel 파일을 메모리에 로드한 뒤, 여러 시트를 효율적으로 읽을 수 있게 도와주는 객체.\n",
        "\n"
      ],
      "metadata": {
        "id": "p3IF2RXEMqVH"
      }
    },
    {
      "cell_type": "code",
      "source": [
        "# pd.ExcelFile 사용"
      ],
      "metadata": {
        "id": "ajQAh785MujL"
      },
      "execution_count": null,
      "outputs": []
    },
    {
      "cell_type": "markdown",
      "metadata": {
        "id": "zka76Lt6_x7I"
      },
      "source": [
        "## Export Excel File from pandas\n",
        "- The **ExcelWriter** class writes one or more **DataFrames** to an Excel file.\n",
        "- Use a context manager (the `with` keyword) in combination with the **ExcelWriter** object and an assigned variable.\n",
        "- Invoke the `to_excel` method on every **DataFrame** to include in the Excel workbook and pass in the **ExcelWriter** object as the first argument.\n",
        "- The `to_excel` method supports `sheet_name`, `index`, and `columns` parameters."
      ]
    },
    {
      "cell_type": "markdown",
      "source": [
        "- ExcelWriter 클래스는 하나 이상의 DataFrame을 Excel 파일로 저장함.\n",
        "\n",
        "- with 키워드를 사용한 컨텍스트 매니저와 ExcelWriter 객체 및 변수 할당을 함께 사용함\n",
        "\n",
        "- Excel 워크북에 포함할 각 DataFrame에 대해 to_excel 메서드를 호출하고, 첫 번째 인자로 ExcelWriter 객체를 전달함.\n",
        "\n",
        "- to_excel 메서드는 sheet_name, index, columns 등의 매개변수를 지원함.\n",
        "\n",
        "\n",
        "\n",
        "\n",
        "\n",
        "\n",
        "\n"
      ],
      "metadata": {
        "id": "ddaXp_HKB4m1"
      }
    },
    {
      "cell_type": "markdown",
      "source": [
        "### 아기 이름을 남자아기 이름과 여자아기 이름 sheet 로 나누어서 저장하고 싶다고 하자."
      ],
      "metadata": {
        "id": "dgwQ-zw6NEPf"
      }
    },
    {
      "cell_type": "code",
      "execution_count": null,
      "metadata": {
        "id": "6Val8Rq0_x7I"
      },
      "outputs": [],
      "source": [
        "url = \"https://data.cityofnewyork.us/api/views/25th-nujf/rows.csv\"\n",
        "baby_names = _\n",
        "baby_names.head()"
      ]
    },
    {
      "cell_type": "markdown",
      "source": [
        "### 일단 성별에 따라 서로 다른 두개의 데이터프레임을 만들어야함."
      ],
      "metadata": {
        "id": "oClHhc1pNKhS"
      }
    },
    {
      "cell_type": "code",
      "source": [
        "# females, males 데이터 프레임을 만들자. 필터 적용."
      ],
      "metadata": {
        "id": "pW7jQ_fVNQg0"
      },
      "execution_count": null,
      "outputs": []
    },
    {
      "cell_type": "markdown",
      "source": [
        "### pd.ExcelWriter 를 사용하여 저장할 파일 이름을 지정해주고, (with-as 구문) 각 sheet 따로 이름 지정하여 저장. (index = False, Males 저장 시에는 특정 열 (\"Year of Birth\", \"Child's First Name\", \"Rank\") 만 골라서 저장)"
      ],
      "metadata": {
        "id": "mq4xji4kNWJO"
      }
    },
    {
      "cell_type": "code",
      "source": [
        "# with ~ as 구문을 통해서 해당 파일에 여러 기능을 동시에 수행 가능."
      ],
      "metadata": {
        "id": "dVmXbWUWNwOe"
      },
      "execution_count": null,
      "outputs": []
    },
    {
      "cell_type": "markdown",
      "source": [
        "### [해보기] with-as 구문을 사용하여 아기이름 데이터에서 Ethnicity 별로 sheet 이름을 만들어 ethnic_groups.xlsx 로 저장하라."
      ],
      "metadata": {
        "id": "gh31URQdOZoe"
      }
    },
    {
      "cell_type": "code",
      "execution_count": null,
      "metadata": {
        "id": "Pd47GZWL_x7I"
      },
      "outputs": [],
      "source": [
        "#"
      ]
    },
    {
      "cell_type": "markdown",
      "source": [
        "### [해보기] 엑셀 파일 이름에 저장을 실행한 날짜가 자동으로 기록되도록 (format() 과 datetime 모듈 사용) 하여, with-as 와 함께 적용하여 성별별 sheet 를 갖는 baby_data_{날짜}.xlsx 파일을 저장하도록 하라."
      ],
      "metadata": {
        "id": "av7k7LZGOuDO"
      }
    },
    {
      "cell_type": "code",
      "source": [
        "#"
      ],
      "metadata": {
        "id": "0OKVGdaVO-PU"
      },
      "execution_count": null,
      "outputs": []
    }
  ],
  "metadata": {
    "anaconda-cloud": {},
    "kernelspec": {
      "display_name": "Python 3 (ipykernel)",
      "language": "python",
      "name": "python3"
    },
    "language_info": {
      "codemirror_mode": {
        "name": "ipython",
        "version": 3
      },
      "file_extension": ".py",
      "mimetype": "text/x-python",
      "name": "python",
      "nbconvert_exporter": "python",
      "pygments_lexer": "ipython3",
      "version": "3.11.5"
    },
    "colab": {
      "provenance": []
    }
  },
  "nbformat": 4,
  "nbformat_minor": 0
}