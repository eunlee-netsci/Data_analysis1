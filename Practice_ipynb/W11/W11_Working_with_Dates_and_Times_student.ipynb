{
  "cells": [
    {
      "cell_type": "markdown",
      "metadata": {
        "id": "7IE2bT0KZJ-T"
      },
      "source": [
        "# Working with Dates and Times"
      ]
    },
    {
      "cell_type": "code",
      "execution_count": null,
      "metadata": {
        "scrolled": true,
        "id": "UHcucY2sZJ-U"
      },
      "outputs": [],
      "source": [
        "import pandas as pd\n",
        "import datetime as dt"
      ]
    },
    {
      "cell_type": "markdown",
      "metadata": {
        "id": "ihKpDOjdZJ-V"
      },
      "source": [
        "## Review of Python's datetime Module\n",
        "- The `datetime` module is built into the core Python programming language.\n",
        "- The common alias for the `datetime` module is `dt`.\n",
        "- A module is a Python source file; think of like an internal library that Python loads on demand.\n",
        "- The `datetime` module includes `date` and `datetime` classes for representing dates and datetimes.\n",
        "- The `date` constructor accepts arguments for year, month, and day. Python defaults to 0 for any missing values.\n",
        "- The `datetime` constructor accepts arguments for year, month, day, hour, minute, and second."
      ]
    },
    {
      "cell_type": "markdown",
      "source": [
        "## Python의 datetime 모듈 복습\n",
        "- `datetime` 모듈은 Python 언어에 기본적으로 내장되어 있음.\n",
        "- `datetime` 모듈의 일반적인 별칭은 `dt`.\n",
        "- 모듈은 Python 소스 파일로, 필요 시 불러오는 내부 라이브러리와 같음.\n",
        "- `datetime` 모듈에는 날짜와 날짜시간을 나타내는 `date` 및 `datetime` 클래스가 포함됨.\n",
        "- `date` 생성자는 연도, 월, 일을 인자로 받음. 누락된 값은 기본적으로 0으로 처리됨.\n",
        "- `datetime` 생성자는 연도, 월, 일, 시, 분, 초를 인자로 받음.\n"
      ],
      "metadata": {
        "id": "L8jIJLnsZSsP"
      }
    },
    {
      "cell_type": "code",
      "source": [
        "# dt.date() : 일반적인 데이터타입처럼 시간타입의 값 생성\n",
        "# 1) 2025년 12월 15일을 의미하는 객체를 생성\n"
      ],
      "metadata": {
        "id": "TZCBDw19b86S"
      },
      "execution_count": null,
      "outputs": []
    },
    {
      "cell_type": "code",
      "source": [
        "# 2) 할당하여 필요한 시간 요소 추출 가능.\n",
        "someday =\n",
        "\n",
        "# 년도, 월 일 추출"
      ],
      "metadata": {
        "id": "15I4R2nBcZh2"
      },
      "execution_count": null,
      "outputs": []
    },
    {
      "cell_type": "code",
      "source": [
        "# 3) 연도, 월, 일, 시간, 분, 초 형태 다 추가해서 형성 가능."
      ],
      "metadata": {
        "id": "gZN75tvidMXb"
      },
      "execution_count": null,
      "outputs": []
    },
    {
      "cell_type": "code",
      "source": [
        "dt.datetime(2025, 12, 15)"
      ],
      "metadata": {
        "id": "FolPR04bdWoK"
      },
      "execution_count": null,
      "outputs": []
    },
    {
      "cell_type": "code",
      "source": [
        "# 4) 데이트타임 객체는 각 요소 추출 가능.\n",
        "sometime = dt.datetime(2025, 12, 15, 8, 13, 59) # 여기서 연, 월, 일 추출"
      ],
      "metadata": {
        "id": "M62_msxtdgTY"
      },
      "execution_count": null,
      "outputs": []
    },
    {
      "cell_type": "markdown",
      "metadata": {
        "id": "WSGAN4eeZJ-W"
      },
      "source": [
        "## The Timestamp and DatetimeIndex Objects\n",
        "\n",
        "- Pandas ships with several classes related to datetimes.\n",
        "- The **Timestamp** is similar to Python's **datetime** object (but with expanded functionality).\n",
        "- A **DatetimeIndex** is an index of **Timestamp** objects.\n",
        "- The **Timestamp** constructor accepts a string, a **datetime** object, or equivalent arguments to the **datetime** clas."
      ]
    },
    {
      "cell_type": "markdown",
      "source": [
        "## Timestamp와 DatetimeIndex 객체\n",
        "\n",
        "- Pandas는 날짜와 시간과 관련된 여러 클래스를 제공함.\n",
        "- **Timestamp**는 Python의 **datetime** 객체와 유사하지만 기능이 확장되어 있음.\n",
        "- **DatetimeIndex**는 **Timestamp** 객체들의 인덱스임.\n",
        "- **Timestamp** 생성자는 문자열, **datetime** 객체 또는 **datetime** 클래스와 동일한 인자를 받을 수 있음.\n"
      ],
      "metadata": {
        "id": "5d94KogYZaQb"
      }
    },
    {
      "cell_type": "markdown",
      "source": [
        "### 판다스와 결합된 시간 객체 다룰 수 있는 객체: Timestamp"
      ],
      "metadata": {
        "id": "zGvFXJ0Bd9A3"
      }
    },
    {
      "cell_type": "code",
      "source": [
        "# 1) timestamp 로 2027년 3월 12 일을 생성."
      ],
      "metadata": {
        "id": "0MftwA0Bebpg"
      },
      "execution_count": null,
      "outputs": []
    },
    {
      "cell_type": "code",
      "source": [
        "# 2) 2027년 3월 12일 18시 23분 49초 생성"
      ],
      "metadata": {
        "id": "WZa38pQ7ekyc"
      },
      "execution_count": null,
      "outputs": []
    },
    {
      "cell_type": "code",
      "source": [
        "# 3) dt.date(2028,10,23) 을 Timestamp 로 제공 -> flexible!\n"
      ],
      "metadata": {
        "id": "SRdJ5dZVetjp"
      },
      "execution_count": null,
      "outputs": []
    },
    {
      "cell_type": "code",
      "source": [
        "# 4) datetime 을 제공해도 됨.\n"
      ],
      "metadata": {
        "id": "NT7qGXHee3BZ"
      },
      "execution_count": null,
      "outputs": []
    },
    {
      "cell_type": "code",
      "source": [
        "# 5) 날짜 형태 스트링도 제공 가능: \"2025-01-01\""
      ],
      "metadata": {
        "id": "4hND3DHie8Y3"
      },
      "execution_count": null,
      "outputs": []
    },
    {
      "cell_type": "code",
      "source": [
        "# 6) 다양한 날짜 형태 처리 가능: \"2025/04/01\"\n"
      ],
      "metadata": {
        "id": "N0mjfEUFfCns"
      },
      "execution_count": null,
      "outputs": []
    },
    {
      "cell_type": "code",
      "source": [
        "# 7) 시간까지 있어도 처리 가능"
      ],
      "metadata": {
        "id": "TjMB9RxdfJbv"
      },
      "execution_count": null,
      "outputs": []
    },
    {
      "cell_type": "code",
      "source": [
        "pd.Timestamp(\"2021-03-08 08:35:15\")"
      ],
      "metadata": {
        "id": "Knb3pr3EfMSU"
      },
      "execution_count": null,
      "outputs": []
    },
    {
      "cell_type": "code",
      "source": [
        "# 8) 타임스탬프 객체 자체를 시리즈 등의 형태로 변형할 수도 있음."
      ],
      "metadata": {
        "id": "cousGFUjf-yE"
      },
      "execution_count": null,
      "outputs": []
    },
    {
      "cell_type": "code",
      "source": [
        "#"
      ],
      "metadata": {
        "id": "misP2c_A1YQ9"
      },
      "execution_count": null,
      "outputs": []
    },
    {
      "cell_type": "code",
      "source": [
        "# 9) DatetimeIndex 는 콜렉션 형태로 인덱스를 달아서 시간 데이터 저장 가능.\n"
      ],
      "metadata": {
        "id": "OXVJkJhXgIjX"
      },
      "execution_count": null,
      "outputs": []
    },
    {
      "cell_type": "markdown",
      "metadata": {
        "id": "1PakFMyLZJ-W"
      },
      "source": [
        "## Create Range of Dates with pd.date_range Function\n",
        "- The `date_range` function generates and returns a **DatetimeIndex** holding a sequence of dates.\n",
        "- The function requires 2 of the 3 following parameters: `start`, `end`, and `period`.\n",
        "- With `start` and `end`, Pandas will assume a daily period/interval.\n",
        "- Every element within a **DatetimeIndex** is a **Timestamp**."
      ]
    },
    {
      "cell_type": "markdown",
      "source": [
        "## pd.date_range 함수로 날짜 범위 생성\n",
        "- `date_range` 함수는 연속된 날짜들을 담은 **DatetimeIndex**를 생성하여 반환함.\n",
        "- 이 함수는 `start`, `end`, `period` 중 2개의 인자를 필요로 함.\n",
        "- `start`와 `end`를 제공하면 Pandas는 일 단위 간격으로 가정함.\n",
        "- **DatetimeIndex**의 각 요소는 **Timestamp**임.\n"
      ],
      "metadata": {
        "id": "z63RD8pPZiV8"
      }
    },
    {
      "cell_type": "markdown",
      "source": [
        "#### 1) 2025년 1월 1일부터 1월 7일까지의 날짜 데이터값을 생성해보자."
      ],
      "metadata": {
        "id": "bNzIqqe0kAvY"
      }
    },
    {
      "cell_type": "code",
      "source": [
        "# 기본적으로 하루 차이나는 데이터 생성함."
      ],
      "metadata": {
        "id": "2NsJKIXFkADo"
      },
      "execution_count": null,
      "outputs": []
    },
    {
      "cell_type": "markdown",
      "source": [
        "#### 2) 2틀씩"
      ],
      "metadata": {
        "id": "E9dpWU06kJo5"
      }
    },
    {
      "cell_type": "code",
      "source": [
        "#"
      ],
      "metadata": {
        "id": "bwJxnjDdkXlo"
      },
      "execution_count": null,
      "outputs": []
    },
    {
      "cell_type": "markdown",
      "source": [
        "#### 3) business day 만"
      ],
      "metadata": {
        "id": "8dK4l0DMkeBV"
      }
    },
    {
      "cell_type": "code",
      "source": [
        "# Mon - Fri"
      ],
      "metadata": {
        "id": "GWW77S-wkhIT"
      },
      "execution_count": null,
      "outputs": []
    },
    {
      "cell_type": "markdown",
      "source": [
        "#### 4) \"W\": weekly frequency"
      ],
      "metadata": {
        "id": "bMpNYcHGks8B"
      }
    },
    {
      "cell_type": "code",
      "source": [
        "# pandas 는 일요일부터 시작하는 것으로 생각함."
      ],
      "metadata": {
        "id": "My1TY_CNk5F2"
      },
      "execution_count": null,
      "outputs": []
    },
    {
      "cell_type": "markdown",
      "source": [
        "#### 5) 금요일부터 시작하는 weekly frequency 같는 datetimeindex"
      ],
      "metadata": {
        "id": "L7WRt58FlE-j"
      }
    },
    {
      "cell_type": "code",
      "source": [
        "#"
      ],
      "metadata": {
        "id": "DUcoDWD1lMR-"
      },
      "execution_count": null,
      "outputs": []
    },
    {
      "cell_type": "markdown",
      "source": [
        "#### 6) 시간 단위로도 나눌 수 있음.\n"
      ],
      "metadata": {
        "id": "XD-QdWO6lRmW"
      }
    },
    {
      "cell_type": "code",
      "source": [
        "#"
      ],
      "metadata": {
        "id": "B61Z8AfelVCY"
      },
      "execution_count": null,
      "outputs": []
    },
    {
      "cell_type": "markdown",
      "source": [
        "#### 7) 시간단위를 조정할 수도 있음 : 6시간 단위"
      ],
      "metadata": {
        "id": "t1MYtvVelXy8"
      }
    },
    {
      "cell_type": "code",
      "source": [
        "#"
      ],
      "metadata": {
        "id": "n55OZIh1lbUP"
      },
      "execution_count": null,
      "outputs": []
    },
    {
      "cell_type": "markdown",
      "source": [
        "#### 8) 월단위도 가능."
      ],
      "metadata": {
        "id": "e65ISyKuleLy"
      }
    },
    {
      "cell_type": "code",
      "source": [
        "# 마지막날 기준."
      ],
      "metadata": {
        "id": "emSEF1Ndlghj"
      },
      "execution_count": null,
      "outputs": []
    },
    {
      "cell_type": "markdown",
      "source": [
        "#### 9) 시작하는 월간 단위도 가능"
      ],
      "metadata": {
        "id": "9bnFx-mslmmD"
      }
    },
    {
      "cell_type": "code",
      "source": [
        "#"
      ],
      "metadata": {
        "id": "ZQcW6yZZlopW"
      },
      "execution_count": null,
      "outputs": []
    },
    {
      "cell_type": "markdown",
      "source": [
        "#### 10) 다른 옵션도 있음.\n"
      ],
      "metadata": {
        "id": "M6vG63M5lvdQ"
      }
    },
    {
      "cell_type": "code",
      "source": [
        "# periods : 몇개의 데이터를 포함할 것인가."
      ],
      "metadata": {
        "id": "rjRyq2ehlyz4"
      },
      "execution_count": null,
      "outputs": []
    },
    {
      "cell_type": "markdown",
      "source": [
        "#### 11) 시작일로부터 총 180개의 business days 를 얻어보자."
      ],
      "metadata": {
        "id": "bp-vR0oGmB5L"
      }
    },
    {
      "cell_type": "code",
      "source": [
        "#"
      ],
      "metadata": {
        "id": "-5DvXAufmG-M"
      },
      "execution_count": null,
      "outputs": []
    },
    {
      "cell_type": "markdown",
      "source": [
        "#### 12) end 포인트로부터 뒤로 돌아가면서 데이터 값을 얻을 수도 있음."
      ],
      "metadata": {
        "id": "fUGHGSD7mInH"
      }
    },
    {
      "cell_type": "code",
      "source": [
        "#"
      ],
      "metadata": {
        "id": "O_1RlRyHmOs_"
      },
      "execution_count": null,
      "outputs": []
    },
    {
      "cell_type": "markdown",
      "source": [
        "#### 13) 자기 나름대로 3가지 방식의 시간 데이터를 생성해보자."
      ],
      "metadata": {
        "id": "nWmjVgMCmRgZ"
      }
    },
    {
      "cell_type": "code",
      "source": [
        "# 예를 들어, 1991년 4월 12일부터 역으로 돌아가면서 75번의 금요일을 얻어보자."
      ],
      "metadata": {
        "id": "jBURpl9xmYOX"
      },
      "execution_count": null,
      "outputs": []
    },
    {
      "cell_type": "markdown",
      "metadata": {
        "id": "-VHYUYPzZJ-X"
      },
      "source": [
        "## The dt Attribute\n",
        "- The `dt` attribute reveals a `DatetimeProperties` object with attributes/methods for working with datetimes. It is similar to the `str` attribute for string methods.\n",
        "- The `DatetimeProperties` object has attributes like `day`, `month`, and `year` to reveal information about each date in the **Series**.\n",
        "- The `day_name` method returns the written day of the week.\n",
        "- Attributes like `is_month_end` and `is_quarter_start` return Boolean **Series**."
      ]
    },
    {
      "cell_type": "markdown",
      "source": [
        "## dt 속성\n",
        "- `dt` 속성은 날짜 데이터를 다룰 수 있는 `DatetimeProperties` 객체를 제공함. 문자열 메서드를 위한 `str` 속성과 유사함.\n",
        "- `DatetimeProperties` 객체는 각 날짜의 `day`, `month`, `year`와 같은 정보를 제공하는 속성을 가짐.\n",
        "- `day_name` 메서드는 요일 이름을 반환함.\n",
        "- `is_month_end`, `is_quarter_start`와 같은 속성은 불리언 **Series**를 반환함.\n"
      ],
      "metadata": {
        "id": "HuOR8bPfZ1r_"
      }
    },
    {
      "cell_type": "markdown",
      "source": [
        "#### 1) 2000년 1월 1일부터 2020년 12월 31일 까지 24일과 3시간 단위로 데이터를 생성해보자."
      ],
      "metadata": {
        "id": "rStQ7XhemzAH"
      }
    },
    {
      "cell_type": "code",
      "source": [
        "# 이를 시리즈로 만들어서 bunch_of_dates 에 할당\n",
        "bunch_of_dates ="
      ],
      "metadata": {
        "id": "Y6EbkBmGnRvl"
      },
      "execution_count": null,
      "outputs": []
    },
    {
      "cell_type": "markdown",
      "source": [
        "#### 2) bunch_of_dates 에서 날짜를 추출하려면?"
      ],
      "metadata": {
        "id": "W0cZX33MoT9B"
      }
    },
    {
      "cell_type": "code",
      "source": [
        "# bunch_of_dates 에서 day 값을 각각 추출해보자.\n"
      ],
      "metadata": {
        "id": "m0HD-UsbogrF"
      },
      "execution_count": null,
      "outputs": []
    },
    {
      "cell_type": "markdown",
      "source": [
        "#### 3) 같은 방식으로 연도, 월을 추출해보자."
      ],
      "metadata": {
        "id": "oAVxiBY0ine3"
      }
    },
    {
      "cell_type": "code",
      "source": [
        "#"
      ],
      "metadata": {
        "id": "xDRBEIgJivIK"
      },
      "execution_count": null,
      "outputs": []
    },
    {
      "cell_type": "markdown",
      "source": [
        "#### 4) day_name() 을 사용하여 요일을 추출해보자."
      ],
      "metadata": {
        "id": "6nLvOIjKizIs"
      }
    },
    {
      "cell_type": "code",
      "source": [
        "#"
      ],
      "metadata": {
        "id": "q415iNmJi3nJ"
      },
      "execution_count": null,
      "outputs": []
    },
    {
      "cell_type": "markdown",
      "source": [
        "#### 5) is_month_end, is_month_start 를 사용하여 월의 시작인지 아닌지에 대한 Boolean 형태의 값을 받아보자."
      ],
      "metadata": {
        "id": "tCfjvS0Si7OJ"
      }
    },
    {
      "cell_type": "code",
      "source": [
        "#"
      ],
      "metadata": {
        "id": "OLSukWwLjCyR"
      },
      "execution_count": null,
      "outputs": []
    },
    {
      "cell_type": "markdown",
      "source": [
        "#### 6) bunch_of_dates 에서 분기 시작일을 추출해보자 (is_quarter_start 사용)"
      ],
      "metadata": {
        "id": "6Pwmk-QnjGRt"
      }
    },
    {
      "cell_type": "code",
      "source": [
        "#"
      ],
      "metadata": {
        "id": "mfwiJqUTjLtX"
      },
      "execution_count": null,
      "outputs": []
    },
    {
      "cell_type": "markdown",
      "metadata": {
        "id": "1jIPNiQHZJ-X"
      },
      "source": [
        "## Selecting Rows from a DataFrame with a DateTimeIndex\n",
        "- The `iloc` accessor is available for index position-based extraction.\n",
        "- The `loc` accessor accepts strings or **Timestamps** to extract by index label/value. Note that Python's `datetime` objects will not work.\n",
        "- Use list slicing to extract a sequence of dates. The `truncate` method is another alternative."
      ]
    },
    {
      "cell_type": "markdown",
      "source": [
        "## DateTimeIndex가 있는 DataFrame에서 행 선택\n",
        "- 인덱스 위치 기반 추출에는 `iloc` 접근자를 사용할 수 있음.\n",
        "- `loc` 접근자는 문자열이나 `Timestamp`를 받아 인덱스 라벨 또는 값으로 추출함. Python의 `datetime` 객체는 작동하지 않음에 주의.\n",
        "- 날짜의 연속 구간을 추출할 때는 리스트 슬라이싱을 사용할 수 있음. 대안으로 `truncate` 메서드를 사용할 수도 있음.\n"
      ],
      "metadata": {
        "id": "39lbnucVZ8ch"
      }
    },
    {
      "cell_type": "code",
      "source": [
        "# ibm.csv 를 불러오자."
      ],
      "metadata": {
        "id": "4jMnJdgKj0Vq"
      },
      "execution_count": null,
      "outputs": []
    },
    {
      "cell_type": "code",
      "source": [
        "# 그냥 불러오면: Date 부분은 그냥 text"
      ],
      "metadata": {
        "id": "JhQ4bM5Wj4C7"
      },
      "execution_count": null,
      "outputs": []
    },
    {
      "cell_type": "markdown",
      "source": [
        "#### 1) 시간을 시간 형태로 갖고 오기: parse_dates = [\"Date\"] 옵션 -> index 를 Date 로-> index 기준으로 sorting"
      ],
      "metadata": {
        "id": "PzjqKaJRj7CF"
      }
    },
    {
      "cell_type": "code",
      "source": [
        "#"
      ],
      "metadata": {
        "id": "_inVBtE-kA1_"
      },
      "execution_count": null,
      "outputs": []
    },
    {
      "cell_type": "markdown",
      "source": [
        "#### 2) index 접근자 iloc 를 하여 300번째 데이터에 접근."
      ],
      "metadata": {
        "id": "kWk9a70EkQQ9"
      }
    },
    {
      "cell_type": "code",
      "source": [
        "#"
      ],
      "metadata": {
        "id": "r8ai6MCZkZOq"
      },
      "execution_count": null,
      "outputs": []
    },
    {
      "cell_type": "markdown",
      "source": [
        "#### 3) loc 을 사용하여 인덱스와 컬럼 이름을 활용하여 접근."
      ],
      "metadata": {
        "id": "6fzWJ-rQka9l"
      }
    },
    {
      "cell_type": "code",
      "source": [
        "# 그냥 스트링으로 접근 가능."
      ],
      "metadata": {
        "id": "FKCButRTkfIQ"
      },
      "execution_count": null,
      "outputs": []
    },
    {
      "cell_type": "code",
      "source": [
        "# Timestamp 로 접근할 수도 있음."
      ],
      "metadata": {
        "id": "oHL7netlkkmB"
      },
      "execution_count": null,
      "outputs": []
    },
    {
      "cell_type": "markdown",
      "source": [
        "#### 4) slicing 도 가능함.  2014-03-04 부터 2014-12-31 까지 슬라이싱 가능."
      ],
      "metadata": {
        "id": "SjNYyJ1EkoRM"
      }
    },
    {
      "cell_type": "code",
      "source": [
        "# 문자형, 타임스탬프형 모두 가능."
      ],
      "metadata": {
        "id": "yPPr_ANtkuaM"
      },
      "execution_count": null,
      "outputs": []
    },
    {
      "cell_type": "markdown",
      "source": [
        "#### 5) truncate 메소드도 가능함."
      ],
      "metadata": {
        "id": "-bZQwa61kxEd"
      }
    },
    {
      "cell_type": "code",
      "source": [
        "#.truncate(시작일, 끝일)"
      ],
      "metadata": {
        "id": "KRu4VUYHk31D"
      },
      "execution_count": null,
      "outputs": []
    },
    {
      "cell_type": "markdown",
      "source": [
        "#### 6) 행이름, 열이름으로 접근할 수 있음. 특정 값에."
      ],
      "metadata": {
        "id": "tHDLe1r9lGNV"
      }
    },
    {
      "cell_type": "code",
      "source": [
        "#"
      ],
      "metadata": {
        "id": "ejC9pIzGlKQQ"
      },
      "execution_count": null,
      "outputs": []
    },
    {
      "cell_type": "markdown",
      "source": [
        "#### 7) 행과 열에 슬라이싱을 적요해서 덩어리로 추출할 수도 있음."
      ],
      "metadata": {
        "id": "jHh-68hHlN-g"
      }
    },
    {
      "cell_type": "code",
      "source": [
        "# 같은 시작일과 끝일에 대해, High 부터 Low 열까지 추출"
      ],
      "metadata": {
        "id": "1NcyFKeVlR8L"
      },
      "execution_count": null,
      "outputs": []
    },
    {
      "cell_type": "markdown",
      "metadata": {
        "id": "D3veI_40ZJ-X"
      },
      "source": [
        "## The DateOffset Object\n",
        "- A **DateOffset** object adds time to a **Timestamp** to arrive at a new **Timestamp**.\n",
        "- The **DateOffset** constructor accepts `days`, `weeks`, `months`, `years` parameters, and more.\n",
        "- We can pass a **DateOffset** object to the `freq` parameter of the `pd.date_range` function."
      ]
    },
    {
      "cell_type": "markdown",
      "source": [
        "## 날짜 오프셋과 빈도\n",
        "- Pandas는 **오프셋 별칭**을 사용하여 일반적인 시간 간격을 표현함 (예: `D`는 하루, `W`는 주간).\n",
        "- `freq` 파라미터는 `date_range`, `resample`, 기타 시간 관련 함수에서 사용할 수 있음.\n",
        "- 예시는 다음과 같음:\n",
        "  - `B`: 영업일\n",
        "  - `W`: 주간\n",
        "  - `M`: 월말\n",
        "  - `Q`: 분기말\n",
        "  - `A`: 연말\n"
      ],
      "metadata": {
        "id": "SiUpdt0laUSK"
      }
    },
    {
      "cell_type": "code",
      "source": [
        "# ibm 데이터를 위에서와 마찬가지로 불러온다."
      ],
      "metadata": {
        "id": "mXXnazJJmgcu"
      },
      "execution_count": null,
      "outputs": []
    },
    {
      "cell_type": "markdown",
      "source": [
        "#### 1) index 로 쓰이는 값에 DateOffset 을 사용하여 값들을 추가 혹은 삭감 해보자."
      ],
      "metadata": {
        "id": "y3EZkVVtmn6o"
      }
    },
    {
      "cell_type": "code",
      "source": [
        "# days = 5 를 사용하여 5일 추가."
      ],
      "metadata": {
        "id": "F3v2Dwnumwu9"
      },
      "execution_count": null,
      "outputs": []
    },
    {
      "cell_type": "markdown",
      "source": [
        "#### 2) 각각 5일을 빼보자."
      ],
      "metadata": {
        "id": "mqvlpHaqm5lr"
      }
    },
    {
      "cell_type": "code",
      "source": [
        "#"
      ],
      "metadata": {
        "id": "3K7sqJyFm-Mt"
      },
      "execution_count": null,
      "outputs": []
    },
    {
      "cell_type": "markdown",
      "source": [
        "#### 3)3달씩 증가시켜보자."
      ],
      "metadata": {
        "id": "SQDwKFxpnAm1"
      }
    },
    {
      "cell_type": "code",
      "source": [
        "#"
      ],
      "metadata": {
        "id": "nP1ePVFInFC-"
      },
      "execution_count": null,
      "outputs": []
    },
    {
      "cell_type": "markdown",
      "source": [
        "#### 4) 1년씩 빼보고, 떠 7 시간씨 추가해보자 (해보기)"
      ],
      "metadata": {
        "id": "E3ixMxRznICY"
      }
    },
    {
      "cell_type": "code",
      "source": [
        "#"
      ],
      "metadata": {
        "id": "SVNlIrx5nQh5"
      },
      "execution_count": null,
      "outputs": []
    },
    {
      "cell_type": "markdown",
      "source": [
        "#### 5) 여러 값을 복합적으로 사용할 수도 있음."
      ],
      "metadata": {
        "id": "mCgef47KnTTy"
      }
    },
    {
      "cell_type": "code",
      "source": [
        "# 예를 들어, 1년 3개월 14시간 23분을 추가할 수도 있음."
      ],
      "metadata": {
        "id": "DCzeF0qxnYnm"
      },
      "execution_count": null,
      "outputs": []
    },
    {
      "cell_type": "markdown",
      "source": [
        "#### 6) freq 옵션에 DateOffset 을 줄 수도 있음. 매년 4월 12일의 ibm 주식 가격을 추출."
      ],
      "metadata": {
        "id": "MqPzQu7znf-e"
      }
    },
    {
      "cell_type": "code",
      "source": [
        "# date_range + freq 옵션에 DateOffset : 이 값을 생일에 저장."
      ],
      "metadata": {
        "id": "gDG5P_xAnrNv"
      },
      "execution_count": null,
      "outputs": []
    },
    {
      "cell_type": "markdown",
      "source": [
        "#### 7) 이 날짜들을 사용하여 생일에 저장된 값들에 해당하는 날짜의 주식값을 추출"
      ],
      "metadata": {
        "id": "fs8MkIbAoCAp"
      }
    },
    {
      "cell_type": "code",
      "source": [
        "#"
      ],
      "metadata": {
        "id": "ygz9zAI2oI7H"
      },
      "execution_count": null,
      "outputs": []
    },
    {
      "cell_type": "markdown",
      "metadata": {
        "id": "w78E6ZFmZJ-Y"
      },
      "source": [
        "## Specialized Date Offsets\n",
        "- Pandas nests more specialized date offsets in `pd.tseries.offsets`.\n",
        "- We can add a different amount of time to each date (for example, month end, quarter end, year begin)"
      ]
    },
    {
      "cell_type": "markdown",
      "source": [
        "## 특수한 날짜 오프셋\n",
        "- Pandas는 `pd.tseries.offsets`에 더 특수한 날짜 오프셋들을 포함하고 있음.\n",
        "- 각 날짜에 서로 다른 시간 간격을 더할 수 있음 (예: 월말, 분기말, 연초 등)\n"
      ],
      "metadata": {
        "id": "VwQeZHYtaamK"
      }
    },
    {
      "cell_type": "code",
      "execution_count": null,
      "metadata": {
        "id": "YNc31YroZJ-Y"
      },
      "outputs": [],
      "source": [
        "stocks = pd.read_csv(\"ibm.csv\", parse_dates=[\"Date\"], index_col=\"Date\").sort_index()\n",
        "stocks.head()"
      ]
    },
    {
      "cell_type": "markdown",
      "source": [
        "#### 1) 각 달의 마지막 날짜로 치환하고 싶다거나 하면?"
      ],
      "metadata": {
        "id": "NV-bsrgSpYAZ"
      }
    },
    {
      "cell_type": "code",
      "source": [
        "# 각 날짜마다 마지막날까지 필요한 날짜 수가 다를 수 있다. 각각 다른 값을 어찌 적용?"
      ],
      "metadata": {
        "id": "PajzLySkpjvv"
      },
      "execution_count": null,
      "outputs": []
    },
    {
      "cell_type": "markdown",
      "source": [
        "#### 1-2) 이전 달의 마지막 날로 치환하려면: 빼기"
      ],
      "metadata": {
        "id": "Z4mQ-wzJqMql"
      }
    },
    {
      "cell_type": "code",
      "source": [
        "#"
      ],
      "metadata": {
        "id": "pwQg_DB41v1j"
      },
      "execution_count": null,
      "outputs": []
    },
    {
      "cell_type": "markdown",
      "source": [
        "#### 2) 분기의 끝으로 치환하려면 ?"
      ],
      "metadata": {
        "id": "5-gtE1qcpxX1"
      }
    },
    {
      "cell_type": "code",
      "source": [
        "#"
      ],
      "metadata": {
        "id": "kSaH7qwep2MW"
      },
      "execution_count": null,
      "outputs": []
    },
    {
      "cell_type": "markdown",
      "source": [
        "#### 3) 분기 시작 - 시작 달은 1월로 기준으로 만들려면?"
      ],
      "metadata": {
        "id": "8crkqvJfp58s"
      }
    },
    {
      "cell_type": "code",
      "source": [
        "#"
      ],
      "metadata": {
        "id": "wStFye6Vp-Np"
      },
      "execution_count": null,
      "outputs": []
    },
    {
      "cell_type": "markdown",
      "source": [
        "#### 4) 해당 해의 마지막 혹은 다음 해의 시작일로 치환."
      ],
      "metadata": {
        "id": "IiTAwzM6qWZA"
      }
    },
    {
      "cell_type": "code",
      "source": [
        "#"
      ],
      "metadata": {
        "id": "XwbhPhnEqZ1k"
      },
      "execution_count": null,
      "outputs": []
    },
    {
      "cell_type": "markdown",
      "metadata": {
        "id": "45eMWdItZJ-Y"
      },
      "source": [
        "## Timedeltas\n",
        "- A **Timedelta** is a pandas object that represents a duration (an amount of time).\n",
        "- Subtracting two **Timestamp** objects will yield a **Timedelta** object (this applies to subtracting a **Series** from another **Series**).\n",
        "- The **Timedelta** constructor accepts parameters for time as well as string descriptions."
      ]
    },
    {
      "cell_type": "markdown",
      "source": [
        "## Timedelta 객체\n",
        "- `Timedelta`는 일정 시간의 길이(지속 시간)를 나타내는 pandas 객체임.\n",
        "- 두 개의 `Timestamp` 객체를 빼면 `Timedelta` 객체가 생성됨 (`Series` 간의 뺄셈에도 동일하게 적용됨).\n",
        "- `Timedelta` 생성자는 시간 관련 인자뿐 아니라 문자열로 된 시간 설명도 받을 수 있음.\n"
      ],
      "metadata": {
        "id": "wYBwCplQajZC"
      }
    },
    {
      "cell_type": "code",
      "source": [
        "# timedelta 는 시간의 덩어리."
      ],
      "metadata": {
        "id": "i-OtMMi8rEjc"
      },
      "execution_count": null,
      "outputs": []
    },
    {
      "cell_type": "markdown",
      "source": [
        "#### 1) 2023년 3월 31일 에서 2023년 3월 20일을 빼보면?"
      ],
      "metadata": {
        "id": "v7CBIP0BrMnU"
      }
    },
    {
      "cell_type": "code",
      "source": [
        "#  timestamp 로 각 시간 객체 생성"
      ],
      "metadata": {
        "id": "pV-e91uTrTTv"
      },
      "execution_count": null,
      "outputs": []
    },
    {
      "cell_type": "markdown",
      "source": [
        "#### 2) 반대로 하면?"
      ],
      "metadata": {
        "id": "da9UOGfFraUc"
      }
    },
    {
      "cell_type": "code",
      "source": [
        "#"
      ],
      "metadata": {
        "id": "Mmq-Zzl3rgxe"
      },
      "execution_count": null,
      "outputs": []
    },
    {
      "cell_type": "markdown",
      "source": [
        "#### 3) Timedelta 객체 덩어리 만들기: 3일 2시간 5분짜리 덩어리"
      ],
      "metadata": {
        "id": "HM-kmBxRri5Z"
      }
    },
    {
      "cell_type": "code",
      "source": [
        "#"
      ],
      "metadata": {
        "id": "k2pCFIQVroKa"
      },
      "execution_count": null,
      "outputs": []
    },
    {
      "cell_type": "markdown",
      "source": [
        "#### 4) 문자열로도 만들 수 있음."
      ],
      "metadata": {
        "id": "VIyJ7rZOrtBC"
      }
    },
    {
      "cell_type": "code",
      "source": [
        "#"
      ],
      "metadata": {
        "id": "qSxdQyQ7rvjS"
      },
      "execution_count": null,
      "outputs": []
    },
    {
      "cell_type": "markdown",
      "source": [
        "### 내 온라인 쇼핑몰의 손님 데이터가 있다고 해보자."
      ],
      "metadata": {
        "id": "wpaXDNKWr3mH"
      }
    },
    {
      "cell_type": "code",
      "source": [
        "# ecommerce.csv 를 갖고 와서, 주문 날짜부터 배달 날짜까지 걸리는 시간을 알아보자.\n",
        "# 어떻게 불러와야할까/"
      ],
      "metadata": {
        "id": "knS-esKMr_RS"
      },
      "execution_count": null,
      "outputs": []
    },
    {
      "cell_type": "markdown",
      "source": [
        "#### 1) 배송일에서 주문일의 차이를 Delivery Time 열을 새로 만들어서 데이터프레임에 추가해보자."
      ],
      "metadata": {
        "id": "9jCKGU_3scvS"
      }
    },
    {
      "cell_type": "code",
      "source": [
        "#"
      ],
      "metadata": {
        "id": "kiMvODoPskBJ"
      },
      "execution_count": null,
      "outputs": []
    },
    {
      "cell_type": "markdown",
      "source": [
        "#### 2) 만약에 지금걸린 배송의 두배의 시간이 걸린다면 받게 될 날짜를 Twice date 열을 새로 만들어 저장해보자."
      ],
      "metadata": {
        "id": "Oor0v99FspK0"
      }
    },
    {
      "cell_type": "code",
      "source": [
        "#"
      ],
      "metadata": {
        "id": "W3m25VKStXLa"
      },
      "execution_count": null,
      "outputs": []
    },
    {
      "cell_type": "markdown",
      "source": [
        "#### 3) 배송에 제일 많은 시간이 걸린게 얼마인지, 제일 적은 시간이 걸린게 언제인지, 평균 시간은 언제인지 구해보자."
      ],
      "metadata": {
        "id": "hYogV0Pzteof"
      }
    },
    {
      "cell_type": "code",
      "source": [
        "#"
      ],
      "metadata": {
        "id": "tz1Mojlptn9n"
      },
      "execution_count": null,
      "outputs": []
    },
    {
      "cell_type": "markdown",
      "source": [
        "### 배송에 걸리는 시간을 일수 별로 빈도 그래프를 그려보자."
      ],
      "metadata": {
        "id": "Xqbc5RuluECd"
      }
    },
    {
      "cell_type": "markdown",
      "source": [
        "![image.png](data:image/png;base64,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)"
      ],
      "metadata": {
        "id": "NLPXyY0kvizJ"
      }
    },
    {
      "cell_type": "code",
      "source": [
        "#"
      ],
      "metadata": {
        "id": "y_Wm0fpSvjya"
      },
      "execution_count": null,
      "outputs": []
    },
    {
      "cell_type": "code",
      "execution_count": null,
      "metadata": {
        "id": "qOHc6vihZJ-Z"
      },
      "outputs": [],
      "source": []
    }
  ],
  "metadata": {
    "anaconda-cloud": {},
    "kernelspec": {
      "display_name": "Python 3 (ipykernel)",
      "language": "python",
      "name": "python3"
    },
    "language_info": {
      "codemirror_mode": {
        "name": "ipython",
        "version": 3
      },
      "file_extension": ".py",
      "mimetype": "text/x-python",
      "name": "python",
      "nbconvert_exporter": "python",
      "pygments_lexer": "ipython3",
      "version": "3.11.5"
    },
    "colab": {
      "provenance": []
    }
  },
  "nbformat": 4,
  "nbformat_minor": 0
}