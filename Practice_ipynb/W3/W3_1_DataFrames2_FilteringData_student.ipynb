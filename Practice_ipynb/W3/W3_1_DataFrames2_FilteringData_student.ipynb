{
  "cells": [
    {
      "cell_type": "markdown",
      "id": "6295927d",
      "metadata": {
        "id": "6295927d"
      },
      "source": [
        "# DataFrames II: Filtering Data"
      ]
    },
    {
      "cell_type": "markdown",
      "id": "5b31f4fc",
      "metadata": {
        "id": "5b31f4fc"
      },
      "source": [
        "# 데이터프레임 II: 데이터 필터링"
      ]
    },
    {
      "cell_type": "code",
      "execution_count": null,
      "id": "df9d6955",
      "metadata": {
        "id": "df9d6955"
      },
      "outputs": [],
      "source": [
        "import pandas as pd # 판다스 임포트\n",
        "import datetime as dt # datetime 에서 dt 로 임포트"
      ]
    },
    {
      "cell_type": "markdown",
      "id": "7ef0c073",
      "metadata": {
        "id": "7ef0c073"
      },
      "source": [
        "## This Module's Dataset + Memory Optimization\n",
        "- The `pd.to_datetime` method converts a **Series** to hold datetime values.\n",
        "- The `format` parameter informs pandas of the format that the times are stored in.\n",
        "- We pass symbols designating the segments of the string. For example, %m means \"month\" and %d means day.\n",
        "- The `dt` attribute reveals an object with many datetime-related attributes and methods.\n",
        "- The `dt.time` attribute extracts only the time from each value in a datetime **Series**.\n",
        "- Use the `astype` method to convert the values in a **Series** to another type.\n",
        "- The `parse_dates` parameter of `read_csv` is an alternate way to parse strings as datetimes."
      ]
    },
    {
      "cell_type": "markdown",
      "id": "23c8540e",
      "metadata": {
        "id": "23c8540e"
      },
      "source": [
        "## 이 모듈의 데이터셋 + 메모리 최적화\n",
        "- `pd.to_datetime` 메서드는 **Series**를 날짜/시간 값을 가지도록 변환함\n",
        "- `format` 매개변수는 문자열이 어떤 형식의 날짜/시간인지 pandas에 알려줌\n",
        "- 예: `%m`은 월, `%d`는 일을 의미함\n",
        "- `dt` 속성은 날짜/시간 관련 다양한 속성과 메서드를 제공함\n",
        "- `dt.time`은 **Series**에서 시간만 추출\n",
        "- `astype` 메서드는 **Series**의 값을 다른 타입으로 변환\n",
        "- `read_csv`의 `parse_dates` 매개변수를 사용하면 문자열을 날짜로 자동 파싱할 수 있음"
      ]
    },
    {
      "cell_type": "markdown",
      "source": [
        "![image.png](data:image/png;base64,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)"
      ],
      "metadata": {
        "id": "xMfen7qrCwUf"
      },
      "id": "xMfen7qrCwUf"
    },
    {
      "cell_type": "code",
      "source": [
        "# 예시: 시간만 추출함.\n",
        "# datetime 형식의 Series\n",
        "dates = pd.Series(pd.to_datetime(['2024-01-01 08:30:00', '2024-01-02 14:45:00']))\n",
        "print(dates.dt.time)"
      ],
      "metadata": {
        "id": "2iHDMn72Cy4c"
      },
      "id": "2iHDMn72Cy4c",
      "execution_count": null,
      "outputs": []
    },
    {
      "cell_type": "markdown",
      "source": [
        "## ---------------------------------------------------------------------------------"
      ],
      "metadata": {
        "id": "-Mcp2_O8C7yp"
      },
      "id": "-Mcp2_O8C7yp"
    },
    {
      "cell_type": "code",
      "execution_count": null,
      "id": "6d93b704",
      "metadata": {
        "id": "6d93b704"
      },
      "outputs": [],
      "source": [
        "employees = pd.read_csv(\"employees.csv\") # employees.csv 를 데이터프레임으로"
      ]
    },
    {
      "cell_type": "code",
      "execution_count": null,
      "id": "b417a572",
      "metadata": {
        "id": "b417a572"
      },
      "outputs": [],
      "source": [
        "employees.info() # info()"
      ]
    },
    {
      "cell_type": "code",
      "execution_count": null,
      "id": "d15ebd5d",
      "metadata": {
        "id": "d15ebd5d"
      },
      "outputs": [],
      "source": [
        "employees.head() # 앞 부분만 확인해보자."
      ]
    },
    {
      "cell_type": "markdown",
      "source": [
        "## (1) Start Date 열의 형태를 m/d/y 로 바꾸기 위해서 to_datetime() 함수를 사용하라."
      ],
      "metadata": {
        "id": "ZFUhGdaR_mfj"
      },
      "id": "ZFUhGdaR_mfj"
    },
    {
      "cell_type": "code",
      "source": [
        "employees[\"Start Date\"] = #"
      ],
      "metadata": {
        "id": "dk28uErH_mEz"
      },
      "id": "dk28uErH_mEz",
      "execution_count": null,
      "outputs": []
    },
    {
      "cell_type": "markdown",
      "source": [
        "## (2) Last Login Time 에서 H:min:sec 형태로 변형하자. to_datetime()"
      ],
      "metadata": {
        "id": "jMGMEAG2_0b4"
      },
      "id": "jMGMEAG2_0b4"
    },
    {
      "cell_type": "code",
      "source": [
        "employees[\"Last Login Time\"] = #"
      ],
      "metadata": {
        "id": "ze_YeCdQ_ypl"
      },
      "id": "ze_YeCdQ_ypl",
      "execution_count": null,
      "outputs": []
    },
    {
      "cell_type": "markdown",
      "source": [
        "## (3) Senior Management 타입을 부울형으로 만들자."
      ],
      "metadata": {
        "id": "kqjAgtirBT1B"
      },
      "id": "kqjAgtirBT1B"
    },
    {
      "cell_type": "code",
      "source": [
        "employees[\"Senior Management\"] = #"
      ],
      "metadata": {
        "id": "vWK4u0QgBSOh"
      },
      "id": "vWK4u0QgBSOh",
      "execution_count": null,
      "outputs": []
    },
    {
      "cell_type": "markdown",
      "source": [
        "## (4) Gender 는 카테고리 타입으로 바꾸자."
      ],
      "metadata": {
        "id": "bsnDMYdzBcji"
      },
      "id": "bsnDMYdzBcji"
    },
    {
      "cell_type": "code",
      "source": [
        "employees[\"Gender\"] = #"
      ],
      "metadata": {
        "id": "f0U6-bPHBb4P"
      },
      "id": "f0U6-bPHBb4P",
      "execution_count": null,
      "outputs": []
    },
    {
      "cell_type": "markdown",
      "source": [
        "## (5) 다시 employees 의 info() 로 열 별로 데이터 타입이 변형되었는지 확인해보자."
      ],
      "metadata": {
        "id": "og71PALGBjpd"
      },
      "id": "og71PALGBjpd"
    },
    {
      "cell_type": "code",
      "execution_count": null,
      "id": "50e7670e",
      "metadata": {
        "id": "50e7670e"
      },
      "outputs": [],
      "source": [
        "employees.XX"
      ]
    },
    {
      "cell_type": "markdown",
      "id": "31f4eb65",
      "metadata": {
        "id": "31f4eb65"
      },
      "source": [
        "## Filter A DataFrame  Based On A Condition\n",
        "- Pandas needs a **Series** of Booleans to perform a filter.\n",
        "- Pass the Boolean Series inside square brackets after the **DataFrame**.\n",
        "- We can generate a Boolean Series using a wide variety of operations (equality, inequality, less than, greater than, inclusion, etc)"
      ]
    },
    {
      "cell_type": "markdown",
      "id": "e76786ab",
      "metadata": {
        "id": "e76786ab"
      },
      "source": [
        "## 조건을 기반으로 데이터프레임 필터링\n",
        "- 필터링을 위해서는 불리언 **Series**가 필요함\n",
        "- 이 불리언 **Series**를 **DataFrame** 뒤에 대괄호로 전달\n",
        "- 불리언 **Series**는 ==, !=, <, >, 포함 여부 등 다양한 연산으로 생성 가능"
      ]
    },
    {
      "cell_type": "code",
      "execution_count": null,
      "id": "72c996ba",
      "metadata": {
        "id": "72c996ba"
      },
      "outputs": [],
      "source": [
        "# 앞에서 정리한 형태를 다시 만들자.\n",
        "employees = pd.read_csv(\"employees.csv\", parse_dates=[\"Start Date\"], date_format=\"XXX\")\n",
        "employees[\"Last Login Time\"] = pd.to_datetime(employees[\"Last Login Time\"], format=\"XXX\").XXX\n",
        "employees[\"Senior Management\"] = employees[\"Senior Management\"].XXX\n",
        "employees[\"Gender\"] = employees[\"Gender\"].XXX\n",
        "employees.head()\n"
      ]
    },
    {
      "cell_type": "markdown",
      "source": [
        "## (1) Gender 중 Male 인 사람들만 데이터프레임에서 뽑자."
      ],
      "metadata": {
        "id": "oBbdH4v6Dg2h"
      },
      "id": "oBbdH4v6Dg2h"
    },
    {
      "cell_type": "code",
      "source": [
        "# Gender 열에서 Male 인 데이터 프레임 부분만 추출.\n",
        "employees[XXX]\n"
      ],
      "metadata": {
        "id": "LSLI6OFaDng_"
      },
      "id": "LSLI6OFaDng_",
      "execution_count": null,
      "outputs": []
    },
    {
      "cell_type": "markdown",
      "source": [
        "## (2) Team 열에서 Finance 인 부분만 추출"
      ],
      "metadata": {
        "id": "XrY0UGTlDuMk"
      },
      "id": "XrY0UGTlDuMk"
    },
    {
      "cell_type": "code",
      "source": [
        "employees[XXX]\n"
      ],
      "metadata": {
        "id": "OE16Bc0yDzgx"
      },
      "id": "OE16Bc0yDzgx",
      "execution_count": null,
      "outputs": []
    },
    {
      "cell_type": "markdown",
      "source": [
        "## (3) Team 이 Finance 인 부분을 따로 떼어 on_finance_team 에 할당한 후, 이를 활용해서 필터링."
      ],
      "metadata": {
        "id": "S0W0xfALD16g"
      },
      "id": "S0W0xfALD16g"
    },
    {
      "cell_type": "code",
      "source": [
        "on_finance_team = XX\n",
        "employees[XXX]"
      ],
      "metadata": {
        "id": "Bp96x1k2D8Y6"
      },
      "id": "Bp96x1k2D8Y6",
      "execution_count": null,
      "outputs": []
    },
    {
      "cell_type": "markdown",
      "source": [
        "## (4) Salary 에서 110000 초과인 부분만 추출하자."
      ],
      "metadata": {
        "id": "ObN_LIVFEJIa"
      },
      "id": "ObN_LIVFEJIa"
    },
    {
      "cell_type": "code",
      "source": [
        "employees[XXX]"
      ],
      "metadata": {
        "id": "4ptCRbrgEOoc"
      },
      "id": "4ptCRbrgEOoc",
      "execution_count": null,
      "outputs": []
    },
    {
      "cell_type": "markdown",
      "source": [
        "## (5) Bonus 비율이 1.5 미만인 그룹만 추출."
      ],
      "metadata": {
        "id": "zqvE8jEQES-3"
      },
      "id": "zqvE8jEQES-3"
    },
    {
      "cell_type": "code",
      "source": [
        "employees[XXX]\n"
      ],
      "metadata": {
        "id": "Bm2oMzW9ElJv"
      },
      "id": "Bm2oMzW9ElJv",
      "execution_count": null,
      "outputs": []
    },
    {
      "cell_type": "markdown",
      "source": [
        "## (6) 시작 날짜가 1985-01-01 미만인 부분을 추출."
      ],
      "metadata": {
        "id": "ScnEDzl9E_vU"
      },
      "id": "ScnEDzl9E_vU"
    },
    {
      "cell_type": "code",
      "source": [
        "employees[XXX]\n"
      ],
      "metadata": {
        "id": "nXrgWtMnFGFX"
      },
      "id": "nXrgWtMnFGFX",
      "execution_count": null,
      "outputs": []
    },
    {
      "cell_type": "markdown",
      "source": [
        "## (7) Last Login Time 이 12시 미만인 경우 추출"
      ],
      "metadata": {
        "id": "2k6mHp8TFJHW"
      },
      "id": "2k6mHp8TFJHW"
    },
    {
      "cell_type": "code",
      "source": [
        "employees[XXX] # 정오 미만."
      ],
      "metadata": {
        "id": "zB8Xm8KQFPu7"
      },
      "id": "zB8Xm8KQFPu7",
      "execution_count": null,
      "outputs": []
    },
    {
      "cell_type": "markdown",
      "id": "f43106bf",
      "metadata": {
        "id": "f43106bf"
      },
      "source": [
        "## Filter with More than One Condition (AND)\n",
        "- Add the `&` operator in between two Boolean **Series** to filter by multiple conditions.\n",
        "- We can assign the **Series** to variables to make the syntax more readable."
      ]
    },
    {
      "cell_type": "markdown",
      "id": "adf103da",
      "metadata": {
        "id": "adf103da"
      },
      "source": [
        "## 두 개 이상의 조건으로 필터링 (AND)\n",
        "- `&` 연산자를 사용해 두 개의 불리언 **Series**를 결합해 여러 조건으로 필터링\n",
        "- **Series**를 변수에 할당하면 가독성이 향상됨"
      ]
    },
    {
      "cell_type": "code",
      "execution_count": null,
      "id": "c41f44e8",
      "metadata": {
        "id": "c41f44e8"
      },
      "outputs": [],
      "source": [
        "# 다시 앞에서 타입 정리한 데이터프레임을 만들자.\n",
        "employees = pd.read_csv(\"employees.csv\", parse_dates=[\"Start Date\"], date_format=\"%m/%d/%Y\")\n",
        "employees[\"Last Login Time\"] = pd.to_datetime(employees[\"Last Login Time\"], format=\"%H:%M %p\").dt.time\n",
        "employees[\"Senior Management\"] = employees[\"Senior Management\"].astype(bool)\n",
        "employees[\"Gender\"] = employees[\"Gender\"].astype(\"category\")\n",
        "employees.head()"
      ]
    },
    {
      "cell_type": "markdown",
      "source": [
        "## (1) 마케팅 부서에서 근무하며 연봉이 10만 달러를 초과하는 여성 직원 추출"
      ],
      "metadata": {
        "id": "6AN2dF-bHpfN"
      },
      "id": "6AN2dF-bHpfN"
    },
    {
      "cell_type": "code",
      "source": [
        "# here"
      ],
      "metadata": {
        "id": "kE5twlrDImzu"
      },
      "id": "kE5twlrDImzu",
      "execution_count": null,
      "outputs": []
    },
    {
      "cell_type": "markdown",
      "source": [
        "![image.png](data:image/png;base64,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)"
      ],
      "metadata": {
        "id": "tf80OrVzJnm5"
      },
      "id": "tf80OrVzJnm5"
    },
    {
      "cell_type": "markdown",
      "id": "40f1f527",
      "metadata": {
        "id": "40f1f527"
      },
      "source": [
        "## Filter with More than One Condition (OR)\n",
        "- Use the `|` operator in between two Boolean **Series** to filter by *either* condition."
      ]
    },
    {
      "cell_type": "markdown",
      "id": "29f4d038",
      "metadata": {
        "id": "29f4d038"
      },
      "source": [
        "## 두 개 이상의 조건으로 필터링 (OR)\n",
        "- `|` 연산자를 사용해 두 조건 중 하나라도 만족하는 경우 필터링"
      ]
    },
    {
      "cell_type": "code",
      "source": [
        "# 다시 타입 변경했던 상태를 불러오자.\n",
        "employees = pd.read_csv(\"employees.csv\", parse_dates=[\"Start Date\"], date_format=\"%m/%d/%Y\")\n",
        "employees[\"Last Login Time\"] = pd.to_datetime(employees[\"Last Login Time\"], format=\"%H:%M %p\").dt.time\n",
        "employees[\"Senior Management\"] = employees[\"Senior Management\"].astype(bool)\n",
        "employees[\"Gender\"] = employees[\"Gender\"].astype(\"category\")\n",
        "employees.head()"
      ],
      "metadata": {
        "id": "V_o0n6OzJqex"
      },
      "id": "V_o0n6OzJqex",
      "execution_count": null,
      "outputs": []
    },
    {
      "cell_type": "markdown",
      "source": [
        "## Q: 고위 경영진 (senior management) 이거나 (OR) 1990년 1월 1일 이전에 입사한 직원"
      ],
      "metadata": {
        "id": "PAdlvsNaJ2DM"
      },
      "id": "PAdlvsNaJ2DM"
    },
    {
      "cell_type": "code",
      "source": [
        "# here"
      ],
      "metadata": {
        "id": "N5ueyevyJ84Q"
      },
      "id": "N5ueyevyJ84Q",
      "execution_count": null,
      "outputs": []
    },
    {
      "cell_type": "markdown",
      "source": [
        "## Q: 이름이 Robert이고 고객 서비스 부서에서 근무하거나, 2016년 6월 1일 이후에 입사한 직원 추출"
      ],
      "metadata": {
        "id": "jxAJhAoCKyz7"
      },
      "id": "jxAJhAoCKyz7"
    },
    {
      "cell_type": "code",
      "execution_count": null,
      "id": "4bbd4056",
      "metadata": {
        "id": "4bbd4056"
      },
      "outputs": [],
      "source": [
        "# here"
      ]
    },
    {
      "cell_type": "markdown",
      "id": "92bc06fa",
      "metadata": {
        "id": "92bc06fa"
      },
      "source": [
        "## The isin Method\n",
        "- The `isin` **Series** method accepts a collection object like a list, tuple, or **Series**.\n",
        "- The method returns True for a row if its value is found in the collection."
      ]
    },
    {
      "cell_type": "markdown",
      "id": "2212c10f",
      "metadata": {
        "id": "2212c10f"
      },
      "source": [
        "## isin 메서드\n",
        "- `isin` **Series** 메서드는 리스트, 튜플, **Series** 등과 같은 컬렉션을 인자로 받음\n",
        "- 해당 값이 컬렉션 안에 있으면 True 반환"
      ]
    },
    {
      "cell_type": "markdown",
      "source": [
        "## (예시)"
      ],
      "metadata": {
        "id": "AEcL3k3LLL3o"
      },
      "id": "AEcL3k3LLL3o"
    },
    {
      "cell_type": "code",
      "source": [
        "import pandas as pd\n",
        "\n",
        "# 예제 데이터프레임\n",
        "df = pd.DataFrame({\n",
        "    \"Name\": [\"Alice\", \"Bob\", \"Charlie\", \"David\"],\n",
        "    \"Department\": [\"HR\", \"IT\", \"Marketing\", \"IT\"]\n",
        "})\n",
        "\n",
        "print(df.head())\n",
        "# 'IT' 또는 'Marketing' 부서에 속한 직원만 필터링\n",
        "df[df[\"Department\"].isin([\"IT\", \"Marketing\"])]\n"
      ],
      "metadata": {
        "id": "O9znkgoPLOLf"
      },
      "id": "O9znkgoPLOLf",
      "execution_count": null,
      "outputs": []
    },
    {
      "cell_type": "code",
      "execution_count": null,
      "id": "33079279",
      "metadata": {
        "id": "33079279"
      },
      "outputs": [],
      "source": [
        "# 다시 타입이 바뀐 데이터프레임을 불러오자.\n",
        "employees = pd.read_csv(\"employees.csv\", parse_dates=[\"Start Date\"], date_format=\"%m/%d/%Y\")\n",
        "employees[\"Last Login Time\"] = pd.to_datetime(employees[\"Last Login Time\"], format=\"%H:%M %p\").dt.time\n",
        "employees[\"Senior Management\"] = employees[\"Senior Management\"].astype(bool)\n",
        "employees[\"Gender\"] = employees[\"Gender\"].astype(\"category\")\n",
        "employees.head()"
      ]
    },
    {
      "cell_type": "markdown",
      "source": [
        "## Q: Legal Team 이거나 Sales Team 이거나, Product Team 인 경우를 추출"
      ],
      "metadata": {
        "id": "wIGaTjo6MluO"
      },
      "id": "wIGaTjo6MluO"
    },
    {
      "cell_type": "code",
      "source": [
        "# here"
      ],
      "metadata": {
        "id": "jajhehfAMsfc"
      },
      "id": "jajhehfAMsfc",
      "execution_count": null,
      "outputs": []
    },
    {
      "cell_type": "markdown",
      "source": [
        "## Q: 동일한 필터링을 is in 방식으로 수행해보자."
      ],
      "metadata": {
        "id": "-WzchshcMwD3"
      },
      "id": "-WzchshcMwD3"
    },
    {
      "cell_type": "code",
      "source": [
        "# here"
      ],
      "metadata": {
        "id": "TgqbkorXM0uv"
      },
      "id": "TgqbkorXM0uv",
      "execution_count": null,
      "outputs": []
    },
    {
      "cell_type": "markdown",
      "id": "48a1f87d",
      "metadata": {
        "id": "48a1f87d"
      },
      "source": [
        "## The isnull and notnull Methods\n",
        "- The `isnull` method returns True for `NaN` values in a **Series**.\n",
        "- The `notnull` method returns True for present values in a **Series**."
      ]
    },
    {
      "cell_type": "markdown",
      "id": "2b9808e4",
      "metadata": {
        "id": "2b9808e4"
      },
      "source": [
        "## isnull 및 notnull 메서드\n",
        "- `isnull`은 값이 `NaN`이면 True\n",
        "- `notnull`은 값이 존재하면 True"
      ]
    },
    {
      "cell_type": "code",
      "source": [
        "import pandas as pd\n",
        "import numpy as np\n",
        "\n",
        "# 예제 데이터프레임\n",
        "df = pd.DataFrame({\n",
        "    \"Name\": [\"Alice\", \"Bob\", \"Charlie\", \"David\"],\n",
        "    \"Email\": [\"alice@example.com\", np.nan, \"charlie@example.com\", None]\n",
        "})\n",
        "\n",
        "print(df.head())\n",
        "# 이메일이 없는 (NaN) 사람 찾기\n",
        "df[df[\"Email\"].isnull()]\n"
      ],
      "metadata": {
        "id": "oThqFFXENmE6"
      },
      "id": "oThqFFXENmE6",
      "execution_count": null,
      "outputs": []
    },
    {
      "cell_type": "markdown",
      "source": [
        "## 다시 데이터프레임을 불러와보자."
      ],
      "metadata": {
        "id": "tw0zMh0uNrOU"
      },
      "id": "tw0zMh0uNrOU"
    },
    {
      "cell_type": "code",
      "execution_count": null,
      "id": "6cc69121",
      "metadata": {
        "id": "6cc69121"
      },
      "outputs": [],
      "source": [
        "employees = pd.read_csv(\"employees.csv\", parse_dates=[\"Start Date\"], date_format=\"%m/%d/%Y\")\n",
        "employees[\"Last Login Time\"] = pd.to_datetime(employees[\"Last Login Time\"], format=\"%H:%M %p\").dt.time\n",
        "employees[\"Senior Management\"] = employees[\"Senior Management\"].astype(bool)\n",
        "employees[\"Gender\"] = employees[\"Gender\"].astype(\"category\")\n",
        "employees.head()"
      ]
    },
    {
      "cell_type": "markdown",
      "source": [
        "## Q: isnull() 을 사용하여 Team 값이 NaN 을 추출하자."
      ],
      "metadata": {
        "id": "aazwscVbOGhp"
      },
      "id": "aazwscVbOGhp"
    },
    {
      "cell_type": "code",
      "source": [
        "# here"
      ],
      "metadata": {
        "id": "hxTV2mzeOMf6"
      },
      "id": "hxTV2mzeOMf6",
      "execution_count": null,
      "outputs": []
    },
    {
      "cell_type": "markdown",
      "source": [
        "## Q: notnull() 을 사용하여 Team 이 NaN 이 아닌 값들만 추출하자."
      ],
      "metadata": {
        "id": "eCYLNjaIOOlo"
      },
      "id": "eCYLNjaIOOlo"
    },
    {
      "cell_type": "code",
      "source": [
        "# here"
      ],
      "metadata": {
        "id": "PoToLhoXOXlV"
      },
      "id": "PoToLhoXOXlV",
      "execution_count": null,
      "outputs": []
    },
    {
      "cell_type": "markdown",
      "source": [
        "## Q: First Name 이 NaN 이고, Team 이름이 있는 데이터프레임을 추출하자."
      ],
      "metadata": {
        "id": "UwbWm20dOYYt"
      },
      "id": "UwbWm20dOYYt"
    },
    {
      "cell_type": "code",
      "source": [
        "# here"
      ],
      "metadata": {
        "id": "eDY1HAxdOhxq"
      },
      "id": "eDY1HAxdOhxq",
      "execution_count": null,
      "outputs": []
    },
    {
      "cell_type": "markdown",
      "id": "d6646e37",
      "metadata": {
        "id": "d6646e37"
      },
      "source": [
        "## The between Method\n",
        "- The `between` method returns True if a **Series** value is found within its range."
      ]
    },
    {
      "cell_type": "markdown",
      "id": "61572566",
      "metadata": {
        "id": "61572566"
      },
      "source": [
        "## between 메서드\n",
        "- `between`은 값이 주어진 범위에 포함되면 True 반환\n",
        "- 기본적으로 양끝값 포함임."
      ]
    },
    {
      "cell_type": "markdown",
      "source": [
        "![image.png](data:image/png;base64,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)"
      ],
      "metadata": {
        "id": "FVsZna6dVtzW"
      },
      "id": "FVsZna6dVtzW"
    },
    {
      "cell_type": "markdown",
      "source": [
        "## 예시"
      ],
      "metadata": {
        "id": "5Tmugjj8PR_U"
      },
      "id": "5Tmugjj8PR_U"
    },
    {
      "cell_type": "code",
      "source": [
        "import pandas as pd\n",
        "\n",
        "# 예제 데이터프레임\n",
        "df = pd.DataFrame({\n",
        "    \"Name\": [\"Alice\", \"Bob\", \"Charlie\", \"David\"],\n",
        "    \"Salary\": [85000, 120000, 95000, 70000]\n",
        "})\n",
        "\n",
        "print(df.head())\n",
        "# 연봉이 80,000에서 100,000 사이인 직원 찾기\n",
        "df[df[\"Salary\"].between(80000, 100000)]\n"
      ],
      "metadata": {
        "id": "BezZY9rlPRtE"
      },
      "id": "BezZY9rlPRtE",
      "execution_count": null,
      "outputs": []
    },
    {
      "cell_type": "markdown",
      "source": [
        "## 다시 불러보자."
      ],
      "metadata": {
        "id": "RCdn6GOtPX7P"
      },
      "id": "RCdn6GOtPX7P"
    },
    {
      "cell_type": "code",
      "execution_count": null,
      "id": "8fe0a8ae",
      "metadata": {
        "id": "8fe0a8ae"
      },
      "outputs": [],
      "source": [
        "employees = pd.read_csv(\"employees.csv\", parse_dates=[\"Start Date\"], date_format=\"%m/%d/%Y\")\n",
        "employees[\"Last Login Time\"] = pd.to_datetime(employees[\"Last Login Time\"], format=\"%H:%M %p\").dt.time\n",
        "employees[\"Senior Management\"] = employees[\"Senior Management\"].astype(bool)\n",
        "employees[\"Gender\"] = employees[\"Gender\"].astype(\"category\")\n",
        "employees.head()"
      ]
    },
    {
      "cell_type": "markdown",
      "source": [
        "## Q: Salary 가 60000~70000 인 값 추출 (양쪽 모두 포함)"
      ],
      "metadata": {
        "id": "JQqEmV8rPbz8"
      },
      "id": "JQqEmV8rPbz8"
    },
    {
      "cell_type": "code",
      "source": [
        "# here"
      ],
      "metadata": {
        "id": "nucaTse0VwsN"
      },
      "id": "nucaTse0VwsN",
      "execution_count": null,
      "outputs": []
    },
    {
      "cell_type": "markdown",
      "source": [
        "## Q: Bonus 비율이 2.0 ~ 5.0  사이 추출"
      ],
      "metadata": {
        "id": "2hZSkcOGV4Fk"
      },
      "id": "2hZSkcOGV4Fk"
    },
    {
      "cell_type": "code",
      "source": [
        "# here"
      ],
      "metadata": {
        "id": "SPI-WOlgV-T5"
      },
      "id": "SPI-WOlgV-T5",
      "execution_count": null,
      "outputs": []
    },
    {
      "cell_type": "markdown",
      "source": [
        "## Q: 시작 날짜 1991-01-01 에서 1992-01-01 사이 값을 추출."
      ],
      "metadata": {
        "id": "e0I39Su3XN_l"
      },
      "id": "e0I39Su3XN_l"
    },
    {
      "cell_type": "code",
      "source": [
        "# here"
      ],
      "metadata": {
        "id": "dCf1q-2EXZh4"
      },
      "id": "dCf1q-2EXZh4",
      "execution_count": null,
      "outputs": []
    },
    {
      "cell_type": "markdown",
      "source": [
        "## Q. Last Login Time 이 8:30 ~12:00 사이 추출."
      ],
      "metadata": {
        "id": "K4KxOzbVXaqw"
      },
      "id": "K4KxOzbVXaqw"
    },
    {
      "cell_type": "code",
      "source": [
        "# here"
      ],
      "metadata": {
        "id": "L3CyUR03Xh5S"
      },
      "id": "L3CyUR03Xh5S",
      "execution_count": null,
      "outputs": []
    },
    {
      "cell_type": "markdown",
      "id": "db6a0ea7",
      "metadata": {
        "id": "db6a0ea7"
      },
      "source": [
        "## The duplicated Method\n",
        "- The `duplicated` method returns True if a **Series** value is a duplicate.\n",
        "- Pandas will mark one occurrence of a repeated value as a non-duplicate.\n",
        "- Use the `keep` parameter to designate whether the first or last occurrence of a repeated value should be considered the \"non-duplicate\".\n",
        "- Pass False to the `keep` parameter to mark all occurrences of repeated values as duplicates.\n",
        "- Use the tilde symbol (`~`) to invert a **Series's** values. Trues will become Falses, and Falses will become trues."
      ]
    },
    {
      "cell_type": "markdown",
      "id": "bcc89f45",
      "metadata": {
        "id": "bcc89f45"
      },
      "source": [
        "## duplicated 메서드\n",
        "- `duplicated`는 중복된 값을 가지는 경우 True 반환\n",
        "- pandas는 중복된 값 중 하나를 비중복으로 간주\n",
        "- `keep` 파라미터로 첫 번째 또는 마지막 중 어떤 것을 비중복으로 간주할지 설정\n",
        "- `keep=False`를 사용하면 모든 중복 항목을 True로 표시\n",
        "- 물결 기호(`~`)를 사용하면 **Series**의 값을 반전 (True → False, False → True)"
      ]
    },
    {
      "cell_type": "markdown",
      "source": [
        "![image.png](data:image/png;base64,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)"
      ],
      "metadata": {
        "id": "ILiK0ICeYvzK"
      },
      "id": "ILiK0ICeYvzK"
    },
    {
      "cell_type": "markdown",
      "source": [
        "## Q: 다시 데이터 프레임을 불러와보자."
      ],
      "metadata": {
        "id": "CheBvYiqYxyo"
      },
      "id": "CheBvYiqYxyo"
    },
    {
      "cell_type": "code",
      "execution_count": null,
      "id": "8ddda11b",
      "metadata": {
        "id": "8ddda11b"
      },
      "outputs": [],
      "source": [
        "employees = pd.read_csv(\"employees.csv\", parse_dates=[\"Start Date\"], date_format=\"%m/%d/%Y\")\n",
        "employees[\"Last Login Time\"] = pd.to_datetime(employees[\"Last Login Time\"], format=\"%H:%M %p\").dt.time\n",
        "employees[\"Senior Management\"] = employees[\"Senior Management\"].astype(bool)\n",
        "employees[\"Gender\"] = employees[\"Gender\"].astype(\"category\")\n",
        "employees.head()"
      ]
    },
    {
      "cell_type": "markdown",
      "source": [
        "## 예제"
      ],
      "metadata": {
        "id": "wurMqGtuY-jw"
      },
      "id": "wurMqGtuY-jw"
    },
    {
      "cell_type": "code",
      "source": [
        "import pandas as pd\n",
        "\n",
        "df = pd.DataFrame({\n",
        "    'Name': ['Alice', 'Bob', 'Alice', 'Charlie', 'Bob']\n",
        "})\n",
        "\n",
        "df.duplicated() # duplicated 결과값 정리"
      ],
      "metadata": {
        "id": "hOxNwyLlZAlm"
      },
      "id": "hOxNwyLlZAlm",
      "execution_count": null,
      "outputs": []
    },
    {
      "cell_type": "code",
      "source": [
        "# 중복이 아닌 값들만 남기기: ~ (not 사용)\n",
        "df[XXX]\n"
      ],
      "metadata": {
        "id": "9AZvQeJUZF1W"
      },
      "id": "9AZvQeJUZF1W",
      "execution_count": null,
      "outputs": []
    },
    {
      "cell_type": "markdown",
      "source": [
        "## Q: First Name 에서 duplicated() 를 적용하여 나오는 값들을 확인해보"
      ],
      "metadata": {
        "id": "u8v9eZ60Y2KN"
      },
      "id": "u8v9eZ60Y2KN"
    },
    {
      "cell_type": "code",
      "source": [
        "# here"
      ],
      "metadata": {
        "id": "ATG4RkhzZSAf"
      },
      "id": "ATG4RkhzZSAf",
      "execution_count": null,
      "outputs": []
    },
    {
      "cell_type": "markdown",
      "source": [
        "## Q: First Name 에서 keep 옵션을 사용하여, last 값만 살리도록 해보자."
      ],
      "metadata": {
        "id": "h4dISl4XZUdD"
      },
      "id": "h4dISl4XZUdD"
    },
    {
      "cell_type": "code",
      "source": [
        "# here"
      ],
      "metadata": {
        "id": "L0kAa_g2Zbwd"
      },
      "id": "L0kAa_g2Zbwd",
      "execution_count": null,
      "outputs": []
    },
    {
      "cell_type": "markdown",
      "source": [
        "## Q: First Name 에서 keep 옵션을 사용하여 모든 중복된 값을 유지하도록 하자."
      ],
      "metadata": {
        "id": "BCs-CazWZgQ2"
      },
      "id": "BCs-CazWZgQ2"
    },
    {
      "cell_type": "code",
      "source": [
        "# here"
      ],
      "metadata": {
        "id": "M1fceY8YZm6t"
      },
      "id": "M1fceY8YZm6t",
      "execution_count": null,
      "outputs": []
    },
    {
      "cell_type": "markdown",
      "source": [
        "## Q: 중복되지 않은 값들을 제외하고, 중복된 값들만 갖고 오도록 하자."
      ],
      "metadata": {
        "id": "TKQ9Cxh1Zo6P"
      },
      "id": "TKQ9Cxh1Zo6P"
    },
    {
      "cell_type": "code",
      "source": [
        "# here"
      ],
      "metadata": {
        "id": "qPebO_zJaA4Z"
      },
      "id": "qPebO_zJaA4Z",
      "execution_count": null,
      "outputs": []
    },
    {
      "cell_type": "markdown",
      "id": "7bc9185d",
      "metadata": {
        "id": "7bc9185d"
      },
      "source": [
        "## The drop_duplicates Method\n",
        "- The `drop_duplicates` method deletes rows with duplicate values.\n",
        "- By default, it will remove a row if *all* of its values are shared with another row.\n",
        "- The `subset` parameter configures the columns to look for duplicate values within.\n",
        "- Pass a list to `subset` parameter to look for duplicates across multiple columns."
      ]
    },
    {
      "cell_type": "markdown",
      "id": "403c3498",
      "metadata": {
        "id": "403c3498"
      },
      "source": [
        "## drop_duplicates 메서드\n",
        "- `drop_duplicates`는 중복된 값을 가지는 행을 제거\n",
        "- 기본적으로 모든 열의 값이 동일한 경우 해당 행 제거\n",
        "- `subset` 매개변수로 중복을 판단할 열을 지정\n",
        "- 여러 열을 기준으로 중복 확인하려면 리스트 전달"
      ]
    },
    {
      "cell_type": "markdown",
      "source": [
        "## 예제"
      ],
      "metadata": {
        "id": "p833uFtZaKsv"
      },
      "id": "p833uFtZaKsv"
    },
    {
      "cell_type": "code",
      "source": [
        "import pandas as pd\n",
        "\n",
        "# 예제 데이터프레임\n",
        "df = pd.DataFrame({\n",
        "    \"Name\": [\"Alice\", \"Bob\", \"Alice\", \"Charlie\", \"Bob\"],\n",
        "    \"Department\": [\"HR\", \"IT\", \"HR\", \"Marketing\", \"HR\"]\n",
        "})\n",
        "\n",
        "# 중복 행 제거 (모든 열 기준)\n",
        "df.drop_duplicates()\n"
      ],
      "metadata": {
        "id": "NyC16sj9aLrN"
      },
      "id": "NyC16sj9aLrN",
      "execution_count": null,
      "outputs": []
    },
    {
      "cell_type": "markdown",
      "source": [
        "## 예제 - 특정 열 기준으로 중복 제거"
      ],
      "metadata": {
        "id": "7fYjwCa8aQ9C"
      },
      "id": "7fYjwCa8aQ9C"
    },
    {
      "cell_type": "code",
      "source": [
        "# 'Name' 열만 기준으로 중복 제거\n",
        "df.drop_duplicates(subset=\"Name\")\n"
      ],
      "metadata": {
        "id": "LECbNISwaTd_"
      },
      "id": "LECbNISwaTd_",
      "execution_count": null,
      "outputs": []
    },
    {
      "cell_type": "markdown",
      "source": [
        "## 다시 데이터 프레임을 불러오자."
      ],
      "metadata": {
        "id": "YISe_GZraWx5"
      },
      "id": "YISe_GZraWx5"
    },
    {
      "cell_type": "code",
      "execution_count": null,
      "id": "bd70d54c",
      "metadata": {
        "id": "bd70d54c"
      },
      "outputs": [],
      "source": [
        "employees = pd.read_csv(\"employees.csv\", parse_dates=[\"Start Date\"], date_format=\"%m/%d/%Y\")\n",
        "employees[\"Last Login Time\"] = pd.to_datetime(employees[\"Last Login Time\"], format=\"%H:%M %p\").dt.time\n",
        "employees[\"Senior Management\"] = employees[\"Senior Management\"].astype(bool)\n",
        "employees[\"Gender\"] = employees[\"Gender\"].astype(\"category\")\n",
        "employees.head()"
      ]
    },
    {
      "cell_type": "markdown",
      "source": [
        "## Q: drop_duplicates() 를 사용하여, Team 에서 중복되는 값들을 제외하고 추출하자."
      ],
      "metadata": {
        "id": "E5wGem8yaa9L"
      },
      "id": "E5wGem8yaa9L"
    },
    {
      "cell_type": "code",
      "source": [
        "# here"
      ],
      "metadata": {
        "id": "R2EUdNhWaina"
      },
      "id": "R2EUdNhWaina",
      "execution_count": null,
      "outputs": []
    },
    {
      "cell_type": "markdown",
      "source": [
        "## Q: drop_duplicates() 에 keep 옵션을 사용해서 마지막 값을 살리는 방향으로 중복을 제거해보자."
      ],
      "metadata": {
        "id": "Uvpt42italII"
      },
      "id": "Uvpt42italII"
    },
    {
      "cell_type": "code",
      "source": [
        "# here"
      ],
      "metadata": {
        "id": "0muGBZedatay"
      },
      "id": "0muGBZedatay",
      "execution_count": null,
      "outputs": []
    },
    {
      "cell_type": "markdown",
      "source": [
        "## Q: 중복된 모든 행을 삭제하자. keep 옵션을 사용하자."
      ],
      "metadata": {
        "id": "Z79RPmyPa_6E"
      },
      "id": "Z79RPmyPa_6E"
    },
    {
      "cell_type": "code",
      "source": [
        "# here"
      ],
      "metadata": {
        "id": "xwdcdQIxbDjq"
      },
      "id": "xwdcdQIxbDjq",
      "execution_count": null,
      "outputs": []
    },
    {
      "cell_type": "markdown",
      "source": [
        "## Q: drop_duplicates() 에서 서브셋을 \"Senior Management\", \"Team\" 에 대하여서, 중복을 제거하고 (첫값유지), Team 의 값을 기준으로 정렬하자."
      ],
      "metadata": {
        "id": "dwAQ7grybJbd"
      },
      "id": "dwAQ7grybJbd"
    },
    {
      "cell_type": "code",
      "source": [
        "# here"
      ],
      "metadata": {
        "id": "_Le7DZ9rbUEc"
      },
      "id": "_Le7DZ9rbUEc",
      "execution_count": null,
      "outputs": []
    },
    {
      "cell_type": "markdown",
      "source": [
        "## Q: 마지막 값을 중심으로 drop_duplicates() 를 적용하고, 동일하게 Team 값을 기준으로 정렬하자."
      ],
      "metadata": {
        "id": "cBUGkIVQbWi8"
      },
      "id": "cBUGkIVQbWi8"
    },
    {
      "cell_type": "code",
      "source": [
        "# here"
      ],
      "metadata": {
        "id": "268p9VMybdA1"
      },
      "id": "268p9VMybdA1",
      "execution_count": null,
      "outputs": []
    },
    {
      "cell_type": "markdown",
      "id": "cf9608cb",
      "metadata": {
        "id": "cf9608cb"
      },
      "source": [
        "## The unique and nunique Methods\n",
        "- The `unique` method on a **Series** returns a collection of its unique values. The method does not exist on a **DataFrame**.\n",
        "- The `nunique` method returns a *count* of the number of unique values in the **Series**/**DataFrame**.\n",
        "- The `dropna` parameter configures whether to include or exclude missing (`NaN`) values."
      ]
    },
    {
      "cell_type": "markdown",
      "id": "9a124f3f",
      "metadata": {
        "id": "9a124f3f"
      },
      "source": [
        "## unique 및 nunique 메서드\n",
        "- `unique`는 **Series**의 고유한 값들의 모음을 반환 (**DataFrame**에는 없음)\n",
        "- `nunique`는 고유한 값의 개수를 반환\n",
        "- `dropna`는 누락값(`NaN`) 포함 여부를 설정"
      ]
    },
    {
      "cell_type": "markdown",
      "source": [
        "## 예제: unique()"
      ],
      "metadata": {
        "id": "C2DcrmrTbsZw"
      },
      "id": "C2DcrmrTbsZw"
    },
    {
      "cell_type": "code",
      "source": [
        "import pandas as pd\n",
        "\n",
        "df = pd.DataFrame({\n",
        "    \"Department\": [\"HR\", \"IT\", \"IT\", \"Marketing\", \"HR\", None]\n",
        "})\n",
        "\n",
        "df[\"Department\"].unique()\n"
      ],
      "metadata": {
        "id": "xlmyw-JpbuN4"
      },
      "id": "xlmyw-JpbuN4",
      "execution_count": null,
      "outputs": []
    },
    {
      "cell_type": "markdown",
      "source": [
        "## 예제: nunique()\n",
        "- 고유한 값들의 개수를 반환\n",
        "\n",
        "- dropna=True (기본값): NaN 제외\n",
        "\n",
        "- dropna=False: NaN 포함"
      ],
      "metadata": {
        "id": "Pxh7_0Bkbwuk"
      },
      "id": "Pxh7_0Bkbwuk"
    },
    {
      "cell_type": "code",
      "source": [
        "print(df[\"Department\"].nunique())\n",
        "print(df[\"Department\"].nunique(dropna=False))"
      ],
      "metadata": {
        "id": "fVUGO_XPb7al"
      },
      "id": "fVUGO_XPb7al",
      "execution_count": null,
      "outputs": []
    },
    {
      "cell_type": "markdown",
      "source": [
        "## 다시 데이터프레임을 불러와보자."
      ],
      "metadata": {
        "id": "WO_-MfcVcCa_"
      },
      "id": "WO_-MfcVcCa_"
    },
    {
      "cell_type": "code",
      "execution_count": null,
      "id": "90809b3b",
      "metadata": {
        "id": "90809b3b"
      },
      "outputs": [],
      "source": [
        "employees = pd.read_csv(\"employees.csv\", parse_dates=[\"Start Date\"], date_format=\"%m/%d/%Y\")\n",
        "employees[\"Last Login Time\"] = pd.to_datetime(employees[\"Last Login Time\"], format=\"%H:%M %p\").dt.time\n",
        "employees[\"Senior Management\"] = employees[\"Senior Management\"].astype(bool)\n",
        "employees[\"Gender\"] = employees[\"Gender\"].astype(\"category\")\n",
        "employees.head()"
      ]
    },
    {
      "cell_type": "markdown",
      "source": [
        "## Q: employees 데이터프레임에서 Gender 열에 unique()를 적용하여 고유한 값이 어레이로 뽑히는지 확인해보자. type() 으로도 확인해보자."
      ],
      "metadata": {
        "id": "NRKqMKYrcJHn"
      },
      "id": "NRKqMKYrcJHn"
    },
    {
      "cell_type": "code",
      "source": [
        "# here"
      ],
      "metadata": {
        "id": "Ql0_JLEacSll"
      },
      "id": "Ql0_JLEacSll",
      "execution_count": null,
      "outputs": []
    },
    {
      "cell_type": "markdown",
      "source": [
        "## Q: Team 열에서도 동일하게 적용해보자. 그리고 고유한 값이 몇개인지 확인하자. 이 때, NA 값을 고려하는지, 고려하지 않는지를 모두 옵션으로 바꾸어 해보자."
      ],
      "metadata": {
        "id": "lZnrYBMAcTV4"
      },
      "id": "lZnrYBMAcTV4"
    },
    {
      "cell_type": "code",
      "source": [
        "# here"
      ],
      "metadata": {
        "id": "VTtGLd10cf8q"
      },
      "id": "VTtGLd10cf8q",
      "execution_count": null,
      "outputs": []
    },
    {
      "cell_type": "markdown",
      "source": [
        "## Q: 전체 employees 데이터프레임에 nunique() 를 적용하여 전체 열별로 해당 값들이 나오도록 해보자."
      ],
      "metadata": {
        "id": "HTB5eAqrckfl"
      },
      "id": "HTB5eAqrckfl"
    },
    {
      "cell_type": "code",
      "source": [
        "# here"
      ],
      "metadata": {
        "id": "BfS_Z3Ydcrb8"
      },
      "id": "BfS_Z3Ydcrb8",
      "execution_count": null,
      "outputs": []
    }
  ],
  "metadata": {
    "colab": {
      "provenance": []
    },
    "language_info": {
      "name": "python"
    },
    "kernelspec": {
      "name": "python3",
      "display_name": "Python 3"
    }
  },
  "nbformat": 4,
  "nbformat_minor": 5
}