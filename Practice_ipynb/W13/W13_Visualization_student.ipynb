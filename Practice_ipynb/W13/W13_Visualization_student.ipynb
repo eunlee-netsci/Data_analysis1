{
  "cells": [
    {
      "cell_type": "markdown",
      "metadata": {
        "id": "LM4w890ACO8h"
      },
      "source": [
        "# Visualization"
      ]
    },
    {
      "cell_type": "code",
      "execution_count": null,
      "metadata": {
        "jupyter": {
          "outputs_hidden": false
        },
        "tags": [],
        "id": "00Qw1xslCO8h"
      },
      "outputs": [],
      "source": [
        "# 판다스와 matplotlib.pyplot 을 plt 로 임포트\n",
        "import pandas as __\n",
        "import _ as plt"
      ]
    },
    {
      "cell_type": "markdown",
      "metadata": {
        "id": "9JKrQS22CO8i"
      },
      "source": [
        "## The plot Method\n",
        "- By default, the `plot` method renders a line chart, which is ideal for showing trends over time.\n",
        "- The `plot` method includes all numeric **DataFrame** columns by default. We can choose a subset with the `y` parameter.\n",
        "- Matplotlib will use the index values for the x-axis and the values for the y-axis.\n",
        "- Matplotlib will figure out reasonable intervals for the date index (days, months, years, etc.). These options are all customizable."
      ]
    },
    {
      "cell_type": "markdown",
      "source": [
        "\n",
        "* 기본적으로 `plot` 메서드는 선 그래프를 렌더링하며, 이는 시간에 따른 추세를 보여주기에 적합.\n",
        "* `plot` 메서드는 기본적으로 모든 숫자형 **DataFrame** 열을 포함하지만, `y` 매개변수를 사용하여 일부 열만 선택할 수 있음.\n",
        "* Matplotlib은 인덱스 값을 x축으로, 해당 값을 y축으로 사용.\n",
        "* Matplotlib은 날짜 인덱스(일, 월, 연 등)에 대해 적절한 간격을 자동으로 결정하며, 이 설정은 모두 사용자 정의가 가능.\n"
      ],
      "metadata": {
        "id": "km7uJZLkCX3I"
      }
    },
    {
      "cell_type": "code",
      "execution_count": null,
      "metadata": {
        "tags": [],
        "id": "xhsHv56GCO8i"
      },
      "outputs": [],
      "source": [
        "# 이전에 사용했던 ibm 파일을 날짜시간형을 살려서 갖고 오자.\n",
        "# 날짜 부분이 인덱스가 되도록 하자.\n",
        "ibm = pd.read_csv(\"ibm.csv\", parse_dates=_, index_col=_)\n",
        "\n",
        "ibm.head()"
      ]
    },
    {
      "cell_type": "markdown",
      "source": [
        "### ibm 의 판매량 (Volume) 을 플랏해보자."
      ],
      "metadata": {
        "id": "hZDOZvOWoKOl"
      }
    },
    {
      "cell_type": "code",
      "source": [
        "# x, y 축은 무엇일까?"
      ],
      "metadata": {
        "id": "ZfhEWkMsoQLK"
      },
      "execution_count": null,
      "outputs": []
    },
    {
      "cell_type": "markdown",
      "metadata": {
        "id": "Et1alSh4CO8i"
      },
      "source": [
        "## Modifying Plot Aesthetics with Templates\n",
        "- The `plt.style.available` attribute returns a list of available styles.\n",
        "- Use the `plt.style.use` method and pass in a sample style string.\n",
        "- The next charts/graphs you render will implement that style."
      ]
    },
    {
      "cell_type": "markdown",
      "source": [
        "\n",
        "* `plt.style.available` 속성은 사용 가능한 스타일 목록을 반환.\n",
        "* `plt.style.use` 메서드를 사용하고, 원하는 스타일 이름을 문자열로 전달.\n",
        "* 이후에 렌더링되는 차트나 그래프에 해당 스타일이 적용.\n"
      ],
      "metadata": {
        "id": "cOTI4iSnCdMU"
      }
    },
    {
      "cell_type": "code",
      "execution_count": null,
      "metadata": {
        "tags": [],
        "id": "Xye_-okbCO8j"
      },
      "outputs": [],
      "source": [
        "# 앞에서처럼, 이전에 사용했던 ibm 파일을 날짜시간형을 살려서 갖고 오자.\n",
        "# 날짜 부분이 인덱스가 되도록 하자.\n",
        "ibm = pd.read_csv(\"ibm.csv\", parse_dates=_, index_col=_)\n",
        "\n",
        "ibm.head()"
      ]
    },
    {
      "cell_type": "markdown",
      "source": [
        "### style 로 접근이 가능한 속성들을 확인해보자."
      ],
      "metadata": {
        "id": "h1PHvt0zoodc"
      }
    },
    {
      "cell_type": "code",
      "execution_count": null,
      "metadata": {
        "tags": [],
        "id": "-2MhdBJYCO8j"
      },
      "outputs": [],
      "source": [
        "plt.style.available"
      ]
    },
    {
      "cell_type": "markdown",
      "source": [
        "### style 중 fivethirtyeight 을 써서, 폐장시 주가를 그려보자."
      ],
      "metadata": {
        "id": "Ib_c3sEroszc"
      }
    },
    {
      "cell_type": "code",
      "source": [
        "#\n",
        "plt.style.use(_) # 미국의 데이터 저널리즘 사이트 FiveThirtyEight에서 사용하는 스타일\n",
        "ibm.plot(y=_)"
      ],
      "metadata": {
        "id": "SU2TALD6o0ED"
      },
      "execution_count": null,
      "outputs": []
    },
    {
      "cell_type": "markdown",
      "source": [
        "### 다른 스타일 dark_background 를 사용하여, 판매량을 플랏해보자."
      ],
      "metadata": {
        "id": "TtWhsEdFo7Yf"
      }
    },
    {
      "cell_type": "code",
      "source": [
        "#"
      ],
      "metadata": {
        "id": "GyF1-7HrpBLI"
      },
      "execution_count": null,
      "outputs": []
    },
    {
      "cell_type": "markdown",
      "source": [
        "### ggplot 스타일로 가장 낮은 주가들을 플랏해보자."
      ],
      "metadata": {
        "id": "aXnAJKr-pC8d"
      }
    },
    {
      "cell_type": "code",
      "source": [
        "#"
      ],
      "metadata": {
        "id": "f5ydjOMRpJgM"
      },
      "execution_count": null,
      "outputs": []
    },
    {
      "cell_type": "markdown",
      "metadata": {
        "id": "ymHvf5ftCO8j"
      },
      "source": [
        "## Bar Charts\n",
        "- A bar chart uses bars to represent occurrences of values/categories.\n",
        "- We can customize the type of plot that matplotlib renders with the `kind` parameter.\n",
        "- Pass `bar` for a bar graph and `barh` for a horizontal bar graph."
      ]
    },
    {
      "cell_type": "markdown",
      "source": [
        "\n",
        "* 막대 그래프는 값이나 범주의 빈도를 막대로 표현.\n",
        "* matplotlib이 렌더링할 그래프 유형은 `kind` 매개변수로 지정할 수 있음.\n",
        "* 막대 그래프는 `bar`, 수평 막대 그래프는 `barh`를 전달.\n"
      ],
      "metadata": {
        "id": "sx7KZZ2ZCg_D"
      }
    },
    {
      "cell_type": "code",
      "source": [
        "# 주식 가격을 받아 가격이 50 이하이면 \"Poor\", 50 과 100 사이이면, Satisfactory,\n",
        "# 100 이상이면 Excellent 를 반환하는 함수 rank_performance(stock_price) 를 만들고\n",
        "# 이를 Close 가격에 적용하여 각 카테고리에 해당하는 주식이 몇개씩 있는지 카운트하여\n",
        "# barh 로 플랏하는 코드를 작성하라.\n",
        "\n",
        "\n"
      ],
      "metadata": {
        "id": "H_RUQdXbpR5i"
      },
      "execution_count": null,
      "outputs": []
    },
    {
      "cell_type": "markdown",
      "metadata": {
        "id": "AWovSEBICO8k"
      },
      "source": [
        "## Pie Charts\n",
        "- A pie chart uses a circle to represent proportions (how much each chunk contributes to the whole).\n",
        "- Pass the `kind` parameter an argument of \"pie\".\n",
        "- The `legend` parameter renders a legend to map colors to labels."
      ]
    },
    {
      "cell_type": "markdown",
      "source": [
        "\n",
        "* 파이 차트는 원을 사용하여 각 항목이 전체에서 차지하는 비율.\n",
        "* `kind` 매개변수에 `\"pie\"`를 전달하여 파이 차트를 생성할 수 있음.\n",
        "* `legend` 매개변수를 사용하면 색상과 레이블을 연결하는 범례가 표시.\n"
      ],
      "metadata": {
        "id": "ACb1q_A2CpTB"
      }
    },
    {
      "cell_type": "markdown",
      "source": [
        "### 폐장시 가격의 평균을 구하라. 그리고 그 평균보다 큰 주식 가격은 Above Average 로, 그 이하는 Below Average 로 표기하는 함수를 만들고, 이를 Close 열에 적용하여 각 카테고리에 해당하는 주식 갯수를 세어 pie 차트로 플랏하라."
      ],
      "metadata": {
        "id": "upkO3xRbqPhz"
      }
    },
    {
      "cell_type": "code",
      "source": [
        "# 평균 구하기"
      ],
      "metadata": {
        "id": "-TPGSC4yqpR-"
      },
      "execution_count": null,
      "outputs": []
    },
    {
      "cell_type": "code",
      "source": [
        "# mark_average(stock_price) 함수 작성 및 플랏 코드 작성"
      ],
      "metadata": {
        "id": "hJXAgUlGqrwO"
      },
      "execution_count": null,
      "outputs": []
    },
    {
      "cell_type": "markdown",
      "source": [
        "# 복지데이터 활용"
      ],
      "metadata": {
        "id": "ualZyhU0gqgV"
      }
    },
    {
      "cell_type": "code",
      "execution_count": null,
      "metadata": {
        "id": "87f76d20-496c-40d6-9ec0-42faf228dd0c"
      },
      "outputs": [],
      "source": [
        "# 그래프 해상도 설정\n",
        "import matplotlib.pyplot as plt\n",
        "plt.rcParams.update({'figure.dpi' : '100'})\n",
        "%config InlineBackend.figure_format = 'retina' # 해상도 향상 매직 명령어"
      ]
    },
    {
      "cell_type": "markdown",
      "metadata": {
        "id": "fc011574-797c-4308-9e92-95b2539524aa"
      },
      "source": [
        "---"
      ]
    },
    {
      "cell_type": "code",
      "execution_count": null,
      "metadata": {
        "id": "d79d23d4"
      },
      "outputs": [],
      "source": [
        "import pandas as pd\n",
        "import numpy as np\n",
        "import seaborn as sns # 그래프를 예쁘게 그릴 수 있는 패키지. but 세부 조정이 어려움."
      ]
    },
    {
      "cell_type": "code",
      "execution_count": null,
      "metadata": {
        "tags": [],
        "id": "ffe34bd2-9edf-4ce4-a27c-b1b972720dbb"
      },
      "outputs": [],
      "source": [
        "!pip install pyreadstat"
      ]
    },
    {
      "cell_type": "markdown",
      "metadata": {
        "id": "c553ee15"
      },
      "source": [
        "## 데이터 불러오기"
      ]
    },
    {
      "cell_type": "code",
      "execution_count": null,
      "metadata": {
        "eval": false,
        "id": "2f2bc49f"
      },
      "outputs": [],
      "source": [
        "# 데이터 불러오기\n",
        "raw_welfare = pd.read_spss('Koweps_hpwc14_2019_beta2.sav')\n",
        "\n",
        "# 복사본 만들기\n",
        "welfare = raw_welfare.copy()"
      ]
    },
    {
      "cell_type": "markdown",
      "metadata": {
        "id": "d3653496"
      },
      "source": [
        "## 데이터 검토하기"
      ]
    },
    {
      "cell_type": "code",
      "execution_count": null,
      "metadata": {
        "eval": false,
        "id": "4e362c2e-b484-4f8c-925e-275f3389daa6"
      },
      "outputs": [],
      "source": [
        "welfare             # 앞부분, 뒷부분 출력"
      ]
    },
    {
      "cell_type": "code",
      "execution_count": null,
      "metadata": {
        "eval": false,
        "id": "bc164146-4793-458d-9882-8da8190cf68f"
      },
      "outputs": [],
      "source": [
        "welfare.shape       # 행, 열 개수 출력"
      ]
    },
    {
      "cell_type": "code",
      "execution_count": null,
      "metadata": {
        "eval": false,
        "id": "872665e6-1dca-4339-8309-ef7c5ff423e9"
      },
      "outputs": [],
      "source": [
        "welfare.info()      # 변수 속성 출력"
      ]
    },
    {
      "cell_type": "code",
      "execution_count": null,
      "metadata": {
        "eval": false,
        "id": "d382ce64-310b-4910-84a9-41af3c710dad"
      },
      "outputs": [],
      "source": [
        "welfare.__  # 요약 통계량"
      ]
    },
    {
      "cell_type": "markdown",
      "metadata": {
        "id": "3c72cb13"
      },
      "source": [
        "## 변수명 바꾸기"
      ]
    },
    {
      "cell_type": "code",
      "execution_count": null,
      "metadata": {
        "id": "1b17969d"
      },
      "outputs": [],
      "source": [
        "welfare = welfare.rename(columns = {'h14_g3'     : 'sex',            #  성별\n",
        "                                    'h14_g4'     : 'birth',          #  태어난 연도\n",
        "                                    'h14_g10'    : 'marriage_type',  #  혼인 상태\n",
        "                                    'h14_g11'    : 'religion',       #  종교\n",
        "                                    'p1402_8aq1' : 'income',         #  월급\n",
        "                                    'h14_eco9'   : 'code_job',       #  직업 코드\n",
        "                                    'h14_reg7'   : 'code_region'})   #  지역 코드"
      ]
    },
    {
      "cell_type": "markdown",
      "metadata": {
        "id": "4973e90e-181a-496c-a1ce-c42419ae51a3"
      },
      "source": [
        "## 성별에 따른 월급 차이 - 성별에 따라 월급이 다를까?\n",
        "\n"
      ]
    },
    {
      "cell_type": "markdown",
      "metadata": {
        "id": "ef8df942-a714-4fc5-814d-561ab884c3b1"
      },
      "source": [
        "### 성별 변수 검토 및 전처리하기"
      ]
    },
    {
      "cell_type": "markdown",
      "metadata": {
        "id": "788bf87c-cebf-43cc-90de-a118bb7a7f19"
      },
      "source": [
        "#### 1. 변수 검토하기"
      ]
    },
    {
      "cell_type": "code",
      "execution_count": null,
      "metadata": {
        "id": "3a8f8601"
      },
      "outputs": [],
      "source": [
        "welfare['sex'].dtypes  # 변수 타입 출력"
      ]
    },
    {
      "cell_type": "code",
      "execution_count": null,
      "metadata": {
        "id": "2ea9a91f"
      },
      "outputs": [],
      "source": [
        "welfare['sex'].value_counts()  # 빈도 구하기"
      ]
    },
    {
      "cell_type": "markdown",
      "metadata": {
        "id": "be0316e4"
      },
      "source": [
        "#### 2. 전처리하기"
      ]
    },
    {
      "cell_type": "code",
      "execution_count": null,
      "metadata": {
        "id": "2fe3c910"
      },
      "outputs": [],
      "source": [
        "# 이상치 확인\n",
        "welfare['sex'].value_counts()"
      ]
    },
    {
      "cell_type": "markdown",
      "source": [
        "np.where(condition, x, y)\n",
        "→ 조건이 참이면 x, 거짓이면 y로 채우는 조건 선택 함수."
      ],
      "metadata": {
        "id": "fi5QARUAj9VQ"
      }
    },
    {
      "cell_type": "code",
      "execution_count": null,
      "metadata": {
        "id": "3412385c"
      },
      "outputs": [],
      "source": [
        "# 이상치 결측 처리\n",
        "welfare['sex'] = np.where(welfare['sex'] == 9, np.nan, welfare['sex'])\n",
        "\n",
        "# 결측치 확인\n",
        "welfare['sex'].isna().sum()"
      ]
    },
    {
      "cell_type": "code",
      "execution_count": null,
      "metadata": {
        "id": "a8089773"
      },
      "outputs": [],
      "source": [
        "# 성별 항목 이름 부여\n",
        "welfare['sex'] = np.where(welfare['sex'] == 1, 'male', 'female')\n",
        "\n",
        "# 빈도 구하기\n",
        "welfare['sex'].value_counts()"
      ]
    },
    {
      "cell_type": "code",
      "execution_count": null,
      "metadata": {
        "eval": false,
        "id": "adb786ef-d214-480e-95ce-5e5358384249"
      },
      "outputs": [],
      "source": [
        "# 빈도 막대 그래프 만들기\n",
        "sns.countplot(data = welfare, x = 'sex')"
      ]
    },
    {
      "cell_type": "markdown",
      "metadata": {
        "id": "0c1c30c6"
      },
      "source": [
        "### 월급 변수 검토 및 전처리하기\n",
        "\n",
        "#### 1. 변수 검토하기"
      ]
    },
    {
      "cell_type": "code",
      "execution_count": null,
      "metadata": {
        "id": "4d16dd00"
      },
      "outputs": [],
      "source": [
        "welfare['income'].dtypes  # 변수 타입 출력"
      ]
    },
    {
      "cell_type": "code",
      "execution_count": null,
      "metadata": {
        "id": "567a20e5"
      },
      "outputs": [],
      "source": [
        "welfare['income'].describe()  # 요약 통계량 구하기"
      ]
    },
    {
      "cell_type": "code",
      "execution_count": null,
      "metadata": {
        "eval": false,
        "id": "3adad7d1"
      },
      "outputs": [],
      "source": [
        "sns._(data = _, x = 'income')  # 히스토그램 만들기"
      ]
    },
    {
      "cell_type": "code",
      "source": [
        "# M\n",
        "sns.histplot(data = welfare, x = 'income')  # 히스토그램 만들기"
      ],
      "metadata": {
        "id": "ASusw-LnvG_K"
      },
      "execution_count": null,
      "outputs": []
    },
    {
      "cell_type": "markdown",
      "metadata": {
        "id": "203e726f-63f5-44cf-837d-b80cfb2ac205"
      },
      "source": [
        "---"
      ]
    },
    {
      "cell_type": "markdown",
      "metadata": {
        "id": "da8d21be-8131-4f55-896d-5de3e8eaacca"
      },
      "source": [
        "# 대통령 연설문 텍스트 마이닝"
      ]
    },
    {
      "cell_type": "markdown",
      "metadata": {
        "id": "58d73751-7356-496f-a3f3-21e11f286530"
      },
      "source": [
        "### `KoNLPy` 패키지 설치하기\n",
        "\n",
        "#### 1. 자바 설치하기\n",
        "\n",
        "#### 2. `KoNLPy` 의존성 패키지 설치하기"
      ]
    },
    {
      "cell_type": "code",
      "source": [
        "!pip install jpype1"
      ],
      "metadata": {
        "id": "c1jzRCvkkgiP"
      },
      "execution_count": null,
      "outputs": []
    },
    {
      "cell_type": "markdown",
      "metadata": {
        "id": "f4054f3c"
      },
      "source": [
        "#### 3. `KoNLPy` 설치하기"
      ]
    },
    {
      "cell_type": "code",
      "source": [
        "!pip install konlpy"
      ],
      "metadata": {
        "id": "AoMmn1C7kjdz"
      },
      "execution_count": null,
      "outputs": []
    },
    {
      "cell_type": "markdown",
      "metadata": {
        "id": "a22e9920"
      },
      "source": [
        "### 가장 많이 사용된 단어 알아보기\n",
        "\n",
        "#### 1. 연설문 불러오기"
      ]
    },
    {
      "cell_type": "code",
      "execution_count": null,
      "metadata": {
        "eval": false,
        "id": "36d2de2f"
      },
      "outputs": [],
      "source": [
        "moon = open('speech_moon.txt', encoding = 'UTF-8').read()\n",
        "moon"
      ]
    },
    {
      "cell_type": "markdown",
      "metadata": {
        "id": "86d0499e"
      },
      "source": [
        "#### 2. 불필요한 문자 제거하기"
      ]
    },
    {
      "cell_type": "code",
      "execution_count": null,
      "metadata": {
        "eval": false,
        "id": "2d2597e1"
      },
      "outputs": [],
      "source": [
        "# 불필요한 문자 제거하기\n",
        "import re\n",
        "moon = re.sub(__, ' ', moon) # moon 이라는 문자열에서 한글이 아닌 모든 문자를 공백으로 바꿈.\n",
        "moon"
      ]
    },
    {
      "cell_type": "markdown",
      "metadata": {
        "id": "171c4f3e"
      },
      "source": [
        "#### 3. 명사 추출하기"
      ]
    },
    {
      "cell_type": "code",
      "execution_count": null,
      "metadata": {
        "id": "c95d2f84-1bc3-4160-8872-61bf7dd4985e"
      },
      "outputs": [],
      "source": [
        "# hannanum 만들기\n",
        "import konlpy\n",
        "hannanum = konlpy.tag.Hannanum() # 한나눔 형태 분석기 호출"
      ]
    },
    {
      "cell_type": "code",
      "execution_count": null,
      "metadata": {
        "id": "aa51ab3c-4b18-4855-ade3-41efd1cbad5d"
      },
      "outputs": [],
      "source": [
        "# 명사 추출하기\n",
        "hannanum.nouns(\"대한민국의 영토는 한반도와 그 부속도서로 한다\")"
      ]
    },
    {
      "cell_type": "code",
      "execution_count": null,
      "metadata": {
        "eval": false,
        "id": "ba21a16e"
      },
      "outputs": [],
      "source": [
        "# 연설문에서 명사 추출하기\n",
        "nouns = hannanum.nouns(moon)\n",
        "# nouns"
      ]
    },
    {
      "cell_type": "code",
      "source": [
        "\n",
        "# 데이터 프레임으로 변환\n",
        "import pandas as pd\n",
        "df_word = pd.DataFrame({'word' : __})\n",
        "df_word"
      ],
      "metadata": {
        "id": "KaDcKbp3lqd-"
      },
      "execution_count": null,
      "outputs": []
    },
    {
      "cell_type": "markdown",
      "metadata": {
        "id": "e1e75a87"
      },
      "source": [
        "#### 4. 단어 빈도표 만들기"
      ]
    },
    {
      "cell_type": "code",
      "execution_count": null,
      "metadata": {
        "id": "b2d1aa62"
      },
      "outputs": [],
      "source": [
        "# 글자 수 추가\n",
        "df_word['count'] = df_word['word']._._ # 길이를 새로운 열로 만듦.\n",
        "df_word"
      ]
    },
    {
      "cell_type": "code",
      "source": [
        "# 두 글자 이상 단어만 남기기\n",
        "df_word = df_word[_]\n",
        "df_word.sort_values('count')"
      ],
      "metadata": {
        "id": "yPBy4d2_vmJS"
      },
      "execution_count": null,
      "outputs": []
    },
    {
      "cell_type": "code",
      "execution_count": null,
      "metadata": {
        "id": "4d2b81bc"
      },
      "outputs": [],
      "source": [
        "## 단어 빈도 구하기\n",
        "\n",
        "# 단어별 분리\n",
        "# 빈도 구하기\n",
        "# 내림차순 정렬\n",
        "df_word = df_word.groupby('word', as_index = __) \\\n",
        "                 .agg(n = ('word', __)) \\\n",
        "                 .sort_values('n', ascending = False)\n",
        "df_word"
      ]
    },
    {
      "cell_type": "markdown",
      "metadata": {
        "id": "695b1542"
      },
      "source": [
        "#### 5. 단어 빈도 막대 그래프 만들기"
      ]
    },
    {
      "cell_type": "code",
      "execution_count": null,
      "metadata": {
        "id": "4743cb1e"
      },
      "outputs": [],
      "source": [
        "# 단어 빈도 상위 20개 추출\n",
        "top20 = df_word._(20)\n",
        "top20"
      ]
    },
    {
      "cell_type": "code",
      "source": [
        "#\n",
        "\n",
        "\n",
        "plt.rcParams.update({'font.family'    : 'Malgun Gothic',  # 한글 폰트 설정\n",
        "                     'figure.dpi'     : '120',            # 해상도 설정\n",
        "                     'figure.figsize' : [6.5, 6]})        # 가로 세로 크기 설정\n",
        "\n",
        "# 막대 그래프 만들기\n",
        "sns._(data = _, y = _, x = 'n')"
      ],
      "metadata": {
        "id": "l7AgJ7jlvzA6"
      },
      "execution_count": null,
      "outputs": []
    },
    {
      "cell_type": "markdown",
      "metadata": {
        "id": "5ad271c7"
      },
      "source": [
        "# 인터랙티브 그래프(산점도)"
      ]
    },
    {
      "cell_type": "code",
      "source": [
        "# mpg.csv 를 데이터프레임으로 불러오기\n",
        "mpg = pd.read_csv(_)"
      ],
      "metadata": {
        "id": "-IW9bTQswH4K"
      },
      "execution_count": null,
      "outputs": []
    },
    {
      "cell_type": "code",
      "source": [
        "# 산점도 만들기\n",
        "import plotly.express as px\n",
        "px._(data_frame = _, x = 'cty', y = 'hwy', color = 'drv') # drv 는 구동방식"
      ],
      "metadata": {
        "id": "1JTqgoPpwYJs"
      },
      "execution_count": null,
      "outputs": []
    }
  ],
  "metadata": {
    "anaconda-cloud": {},
    "kernelspec": {
      "display_name": "Python 3 (ipykernel)",
      "language": "python",
      "name": "python3"
    },
    "language_info": {
      "codemirror_mode": {
        "name": "ipython",
        "version": 3
      },
      "file_extension": ".py",
      "mimetype": "text/x-python",
      "name": "python",
      "nbconvert_exporter": "python",
      "pygments_lexer": "ipython3",
      "version": "3.11.5"
    },
    "colab": {
      "provenance": []
    }
  },
  "nbformat": 4,
  "nbformat_minor": 0
}