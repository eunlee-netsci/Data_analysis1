{
  "cells": [
    {
      "cell_type": "markdown",
      "id": "3b14b22d",
      "metadata": {
        "id": "3b14b22d"
      },
      "source": [
        "## 🔥 문제 1: 이름 기준 정렬과 고연봉자 분석 (employees.csv)\n",
        "\n",
        "1. `'First Name'`이 `'M'`보다 사전순으로 앞서는 직원만 골라 새로운 데이터프레임 `filtered`를 만드시오.  \n",
        "2. 이들 중 `Salary` 기준으로 상위 30%만 남기기 위해 내림차순 정렬 후 `head()`를 이용하시오.  \n",
        "3. 이들의 `Team`과 `Salary`를 출력하고, `Team`별 인원 수를 세어보시오.  \n",
        "4. 팀별 인원 수를 막대그래프로 시각화하시오.\n"
      ]
    },
    {
      "cell_type": "code",
      "source": [
        "# 여기에"
      ],
      "metadata": {
        "id": "HNmrXOVr538R"
      },
      "id": "HNmrXOVr538R",
      "execution_count": null,
      "outputs": []
    },
    {
      "cell_type": "markdown",
      "source": [
        "## 🧪 문제 2: 주어진 데이터셋을 이용하여 직원들의 Years with Company (근속연수)와 Salary (급여) 간의 관계를 시각화하라. X축은 근속연수, Y축은 급여로 설정하고, 산점도를 그려라."
      ],
      "metadata": {
        "id": "0Ez1nRwiCuUT"
      },
      "id": "0Ez1nRwiCuUT"
    },
    {
      "cell_type": "code",
      "source": [
        "# 여기에"
      ],
      "metadata": {
        "id": "YSgEP5BmC09X"
      },
      "id": "YSgEP5BmC09X",
      "execution_count": null,
      "outputs": []
    },
    {
      "cell_type": "markdown",
      "id": "6f906a67",
      "metadata": {
        "id": "6f906a67"
      },
      "source": [
        "## 🧪 문제 3: 포켓몬 이름에 M이 들어가는지 여부로 나누기 (pokemon.csv)\n",
        "\n",
        "1. 포켓몬 이름(`Name`)에 `'M'` 또는 `'m'`이 **포함된 포켓몬**만 골라 `contains_m` 데이터프레임을 만드시오.  \n",
        "2. 이름에 `'M'`이 포함되지 않은 포켓몬은 `others`라는 데이터프레임에 저장하시오.  \n",
        "3. 두 데이터프레임 각각에서 `Type` 컬럼의 가장 많이 등장한 10개를 `value_counts()`를 사용하여 출력하고, 막대그래프로 시각화하시오.\n"
      ]
    },
    {
      "cell_type": "code",
      "source": [
        "# 여기에"
      ],
      "metadata": {
        "id": "I0t7vXyY6VuI"
      },
      "id": "I0t7vXyY6VuI",
      "execution_count": null,
      "outputs": []
    },
    {
      "cell_type": "markdown",
      "id": "c262ad0c",
      "metadata": {
        "id": "c262ad0c"
      },
      "source": [
        "## 📊 문제 4: 월별 조건에 따른 매출 비교 (revenue_extended.csv)\n",
        "\n",
        "1. `Date` 컬럼을 `datetime` 형식으로 변환하고, `\"월(month)\"` 정보를 새로운 컬럼으로 추가하시오.  \n",
        "2. `New York`의 매출이 `Miami`보다 낮은 데이터만 골라 `filtered`라는 데이터프레임을 만드시오.  \n",
        "3. 이 데이터에서 **월별로** `'New York'`과 `'Miami'`의 평균 매출을 구하고, **막대그래프로 시각화**하시오.\n",
        "\n",
        "> 파일명: `revenue_extended.csv`\n"
      ]
    },
    {
      "cell_type": "code",
      "source": [
        "# 여기에"
      ],
      "metadata": {
        "id": "P6zMLc5I6XWO"
      },
      "id": "P6zMLc5I6XWO",
      "execution_count": null,
      "outputs": []
    },
    {
      "cell_type": "code",
      "source": [],
      "metadata": {
        "id": "rwJNR0OD7MGi"
      },
      "id": "rwJNR0OD7MGi",
      "execution_count": null,
      "outputs": []
    }
  ],
  "metadata": {
    "colab": {
      "provenance": []
    },
    "language_info": {
      "name": "python"
    },
    "kernelspec": {
      "name": "python3",
      "display_name": "Python 3"
    }
  },
  "nbformat": 4,
  "nbformat_minor": 5
}