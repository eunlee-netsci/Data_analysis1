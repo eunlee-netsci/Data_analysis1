{
  "cells": [
    {
      "cell_type": "markdown",
      "metadata": {
        "id": "2zAhjscRlaaQ"
      },
      "source": [
        "# 1. 다음 시에서 특수문자를 제외하고, 단어수를 다음과 같은 형태로 출력하여 파일에 저장하는 함수 count_save_words() 함수를 작성하라.\n",
        "\n",
        "```\n",
        "# poem1.txt\n",
        "\n",
        "여유 - 윌리엄 헨리 데이비스\n",
        "\n",
        "이게 무슨 인생인가, 근심으로 가득 차,\n",
        "잠시 멈춰 서서 바라볼 시간조차 없다면?\n",
        "\n",
        "\n",
        "나무 아래 서서 양이나 소들을\n",
        "천천히 바라볼 시간조차 없다면,\n",
        "\n",
        "숲을 지나며, 다람쥐들이 수풀 속에 도토리를\n",
        "숨기는 것을 바라볼 시간조차 없다면,\n",
        "\n",
        "한낮에도 밤하늘처럼 별들을 가득 담은\n",
        "시냇물을 바라볼 시간조차 없다면,\n",
        "\n",
        "예쁜 여자의 눈길에 고개 돌려\n",
        "그녀의 춤추는 발을 바라볼 시간조차 없다면,\n",
        "\n",
        "눈가에서 시작된 그녀의 미소가\n",
        "입가에서 환하게 피어나는 것을 기다릴 시간조차 없다면,\n",
        "\n",
        "\n",
        "아, 서글픈 인생이네, 근심으로 가득 차,\n",
        "\n",
        "잠시 멈춰 서서 바라볼 시간조차 없다면.\n",
        "```"
      ]
    },
    {
      "cell_type": "markdown",
      "metadata": {
        "id": "TYXA3DPgnLlj"
      },
      "source": [
        "```\n",
        "가득: 3\n",
        "것을: 2\n",
        "고개: 1\n",
        "그녀의: 2\n",
        "근심으로: 2\n",
        "기다릴: 1\n",
        "나무: 1\n",
        "눈가에서: 1\n",
        "눈길에: 1\n",
        "다람쥐들이: 1\n",
        "```"
      ]
    },
    {
      "cell_type": "code",
      "execution_count": null,
      "metadata": {
        "id": "8MhABnQqlFeh"
      },
      "outputs": [],
      "source": [
        "def count_words_and_save(text, filename=\"word_count.txt\"):\n",
        " \"\"\"\n",
        " 입력된 파일에서 특수 문자를 지우고, 단어를 세어 다음과 같이 파일에 저장하는 함수\n",
        " \"\"\"\n",
        " #"
      ]
    },
    {
      "cell_type": "code",
      "execution_count": null,
      "metadata": {
        "colab": {
          "base_uri": "https://localhost:8080/"
        },
        "id": "qXKCqDCqmtfx",
        "outputId": "e01cc462-625c-4f42-f7c3-925a85706553"
      },
      "outputs": [
        {
          "name": "stdout",
          "output_type": "stream",
          "text": [
            "단어 개수가 'word_count.txt' 파일에 저장되었습니다.\n"
          ]
        }
      ],
      "source": [
        "count_save_words(\"poem1.txt\") # 실행\n"
      ]
    },
    {
      "cell_type": "markdown",
      "metadata": {
        "id": "iTLfwanEnVnw"
      },
      "source": [
        "## 2. 다음은 사랑의 하츄핑에 나오는 핑 캐릭터들의 이름임. 이 이름들 중 맨 끝에 ping 부분을 제외하고, 이름에 char 가 들어간 ping 들의 이름만 리스트에서 제외하는 함수를 작성. 여기서 char 는 인풋 변수임. 즉, char = 'p' 이면, 'ping' 을 제외하고 이름에 p 가 들어간 핑 캐릭터들 이름을 지우는 것임. 함수 이름은 remove_ping(). 반환값은 해당 알파벳 캐릭터를 갖는 핑이 삭제된 리스트. 이 때 리스트 축약법을 쓰도록 함."
      ]
    },
    {
      "cell_type": "markdown",
      "metadata": {
        "id": "I-qt0ZaNnZXE"
      },
      "source": [
        "```\n",
        "ping_characters = [\n",
        "    \"Hachuping\",  # 하츄핑\n",
        "    \"Aiping\",     # 아이핑\n",
        "    \"Yuping\",     # 유핑\n",
        "    \"Chachaping\", # 차차핑\n",
        "    \"Ruruping\",   # 루루핑\n",
        "    \"Poping\",     # 포핑\n",
        "    \"Nuningping\", # 누닝핑\n",
        "    \"Shashaping\", # 샤샤핑\n",
        "    \"Doriping\",   # 도리핑\n",
        "    \"Mingping\",   # 밍핑\n",
        "    \"Memeping\",   # 메메핑\n",
        "    \"Raningping\"  # 라닝핑\n",
        "]\n",
        "\n",
        "```"
      ]
    },
    {
      "cell_type": "code",
      "execution_count": null,
      "metadata": {
        "id": "b8zpC1fVmwOo"
      },
      "outputs": [],
      "source": [
        "# here"
      ]
    },
    {
      "cell_type": "code",
      "execution_count": null,
      "metadata": {
        "id": "J0vUwa2Mndoy"
      },
      "outputs": [],
      "source": [
        "def remove_ping(ping_list, char):\n",
        "    \"\"\"\n",
        "    입력된 핑 캐릭터 리스트에서 'ping'을 제외한 이름을 추출한 후,\n",
        "    특정 문자(char)를 포함하는 이름을 리스트에서 제거하는 함수.\n",
        "\n",
        "    Args:\n",
        "    - ping_list (list): 핑 캐릭터 이름 리스트\n",
        "    - char (str): 제거할 문자\n",
        "\n",
        "    Returns:\n",
        "    - list: 지정된 문자가 포함된 핑 캐릭터들을 제거한 리스트\n",
        "    \"\"\"\n",
        "    # 'ping'을 제외한 순수 이름 추출\n",
        "   \n",
        "    return result"
      ]
    },
    {
      "cell_type": "markdown",
      "metadata": {
        "id": "hBpRYVoMnved"
      },
      "source": [
        "# 3. 다음은 상품명(Product)과 가격(Price)을 다루는 미완성 클래스이다. 해당 클래스에서 판다스의 기능을 활용하여:\n",
        "\n",
        "* add_product() : 새로운 상품 정보를 데이터프레임에 추가할 수 있도록 함.\n",
        "* get_expensive_products(threshold) : 특정 가격 이상인 상품들만 필터링하여 반환하도록 함.\n",
        "* 빈칸 XXX를 채워 클래스를 완성하고, 아래 예제 실행 결과가 나오도록 구현하라."
      ]
    },
    {
      "cell_type": "markdown",
      "metadata": {
        "id": "a7nesat8oFIa"
      },
      "source": [
        "```\n",
        "pm = ProductManager()\n",
        "pm.add_product(\"Laptop\", 1500)\n",
        "pm.add_product(\"Mouse\", 25)\n",
        "pm.add_product(\"Keyboard\", 100)\n",
        "pm.add_product(\"Monitor\", 300)\n",
        "\n",
        "print(\"전체 상품 목록\")\n",
        "print(pm.products)  # 전체 상품 데이터프레임 출력\n",
        "\n",
        "print(\"\\n100달러 이상인 상품\")\n",
        "print(pm.get_expensive_products(100))  # 100달러 이상 상품만 출력\n",
        "\n",
        "```"
      ]
    },
    {
      "cell_type": "markdown",
      "metadata": {
        "id": "gfP_P-9zoJbJ"
      },
      "source": [
        "```\n",
        "전체 상품 목록\n",
        "   Product  Price\n",
        "0  Laptop   1500\n",
        "1  Mouse      25\n",
        "2  Keyboard  100\n",
        "3  Monitor   300\n",
        "\n",
        "100달러 이상인 상품\n",
        "   Product  Price\n",
        "0  Laptop   1500\n",
        "2  Keyboard  100\n",
        "3  Monitor   300\n",
        "\n",
        "```"
      ]
    },
    {
      "cell_type": "code",
      "execution_count": null,
      "metadata": {
        "id": "CKtvCBKaoDjq"
      },
      "outputs": [],
      "source": [
        "# here\n",
        "\n",
        "import pandas as pd\n",
        "\n",
        "class ProductManager:\n",
        "    def __init__(self):\n",
        "        \"\"\"상품 정보를 저장할 데이터프레임 생성\"\"\"\n",
        "        self.products = XXX(XXX=[\"Product\", \"Price\"])\n",
        "\n",
        "    def add_product(self, XXX, XXX):\n",
        "        \"\"\"새로운 상품을 데이터프레임에 추가하는 함수\"\"\"\n",
        "        new_product = XXX([[name, price]], columns=[\"Product\", \"Price\"])\n",
        "        self.products = pd.XXX([self.products, new_product], ignore_index=XXX)\n",
        "\n",
        "    def get_expensive_products(self, threshold):\n",
        "        \"\"\"특정 가격(threshold) 이상인 상품만 필터링하여 반환\"\"\"\n",
        "        return XXX\n"
      ]
    }
  ],
  "metadata": {
    "colab": {
      "provenance": []
    },
    "kernelspec": {
      "display_name": "Python 3",
      "name": "python3"
    },
    "language_info": {
      "name": "python"
    }
  },
  "nbformat": 4,
  "nbformat_minor": 0
}
